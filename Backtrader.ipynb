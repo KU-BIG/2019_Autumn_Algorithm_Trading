{
  "nbformat": 4,
  "nbformat_minor": 0,
  "metadata": {
    "colab": {
      "name": "Backtrader.ipynb",
      "provenance": [],
      "collapsed_sections": []
    },
    "kernelspec": {
      "name": "python3",
      "display_name": "Python 3"
    }
  },
  "cells": [
    {
      "cell_type": "code",
      "metadata": {
        "id": "AF_Ho79yw4Nl",
        "colab_type": "code",
        "colab": {
          "base_uri": "https://localhost:8080/",
          "height": 131
        },
        "outputId": "532ba84a-60f2-43bb-8797-6f5d3acb6956"
      },
      "source": [
        "from google.colab import drive\n",
        "drive.mount('/content/drive')"
      ],
      "execution_count": 1,
      "outputs": [
        {
          "output_type": "stream",
          "text": [
            "Go to this URL in a browser: https://accounts.google.com/o/oauth2/auth?client_id=947318989803-6bn6qk8qdgf4n4g3pfee6491hc0brc4i.apps.googleusercontent.com&redirect_uri=urn%3Aietf%3Awg%3Aoauth%3A2.0%3Aoob&scope=email%20https%3A%2F%2Fwww.googleapis.com%2Fauth%2Fdocs.test%20https%3A%2F%2Fwww.googleapis.com%2Fauth%2Fdrive%20https%3A%2F%2Fwww.googleapis.com%2Fauth%2Fdrive.photos.readonly%20https%3A%2F%2Fwww.googleapis.com%2Fauth%2Fpeopleapi.readonly&response_type=code\n",
            "\n",
            "Enter your authorization code:\n",
            "··········\n",
            "Mounted at /content/drive\n"
          ],
          "name": "stdout"
        }
      ]
    },
    {
      "cell_type": "markdown",
      "metadata": {
        "id": "QvANjlxbxNd2",
        "colab_type": "text"
      },
      "source": [
        "## Backtrader documentation\n",
        "- simle example using backtrader\n",
        "- https://ntguardian.wordpress.com/2017/06/12/getting-started-with-backtrader/ \n",
        "- 위 블로그를 참고해서 작성했다. "
      ]
    },
    {
      "cell_type": "code",
      "metadata": {
        "id": "HVXxxkbbyZya",
        "colab_type": "code",
        "colab": {
          "base_uri": "https://localhost:8080/",
          "height": 131
        },
        "outputId": "ff453b54-6efa-4b5c-9eba-28c02a2b737d"
      },
      "source": [
        "#!pip3 install backtrader"
      ],
      "execution_count": 2,
      "outputs": [
        {
          "output_type": "stream",
          "text": [
            "Collecting backtrader\n",
            "\u001b[?25l  Downloading https://files.pythonhosted.org/packages/a6/35/6ed3fbb771712d457011680970f3f0bcf38bfbc4cedd447d62705a6523c8/backtrader-1.9.74.123-py2.py3-none-any.whl (411kB)\n",
            "\r\u001b[K     |▉                               | 10kB 14.0MB/s eta 0:00:01\r\u001b[K     |█▋                              | 20kB 3.4MB/s eta 0:00:01\r\u001b[K     |██▍                             | 30kB 4.8MB/s eta 0:00:01\r\u001b[K     |███▏                            | 40kB 3.1MB/s eta 0:00:01\r\u001b[K     |████                            | 51kB 3.7MB/s eta 0:00:01\r\u001b[K     |████▉                           | 61kB 4.4MB/s eta 0:00:01\r\u001b[K     |█████▋                          | 71kB 5.1MB/s eta 0:00:01\r\u001b[K     |██████▍                         | 81kB 5.8MB/s eta 0:00:01\r\u001b[K     |███████▏                        | 92kB 6.4MB/s eta 0:00:01\r\u001b[K     |████████                        | 102kB 5.0MB/s eta 0:00:01\r\u001b[K     |████████▊                       | 112kB 5.0MB/s eta 0:00:01\r\u001b[K     |█████████▋                      | 122kB 5.0MB/s eta 0:00:01\r\u001b[K     |██████████▍                     | 133kB 5.0MB/s eta 0:00:01\r\u001b[K     |███████████▏                    | 143kB 5.0MB/s eta 0:00:01\r\u001b[K     |████████████                    | 153kB 5.0MB/s eta 0:00:01\r\u001b[K     |████████████▊                   | 163kB 5.0MB/s eta 0:00:01\r\u001b[K     |█████████████▌                  | 174kB 5.0MB/s eta 0:00:01\r\u001b[K     |██████████████▍                 | 184kB 5.0MB/s eta 0:00:01\r\u001b[K     |███████████████▏                | 194kB 5.0MB/s eta 0:00:01\r\u001b[K     |████████████████                | 204kB 5.0MB/s eta 0:00:01\r\u001b[K     |████████████████▊               | 215kB 5.0MB/s eta 0:00:01\r\u001b[K     |█████████████████▌              | 225kB 5.0MB/s eta 0:00:01\r\u001b[K     |██████████████████▎             | 235kB 5.0MB/s eta 0:00:01\r\u001b[K     |███████████████████▏            | 245kB 5.0MB/s eta 0:00:01\r\u001b[K     |████████████████████            | 256kB 5.0MB/s eta 0:00:01\r\u001b[K     |████████████████████▊           | 266kB 5.0MB/s eta 0:00:01\r\u001b[K     |█████████████████████▌          | 276kB 5.0MB/s eta 0:00:01\r\u001b[K     |██████████████████████▎         | 286kB 5.0MB/s eta 0:00:01\r\u001b[K     |███████████████████████         | 296kB 5.0MB/s eta 0:00:01\r\u001b[K     |████████████████████████        | 307kB 5.0MB/s eta 0:00:01\r\u001b[K     |████████████████████████▊       | 317kB 5.0MB/s eta 0:00:01\r\u001b[K     |█████████████████████████▌      | 327kB 5.0MB/s eta 0:00:01\r\u001b[K     |██████████████████████████▎     | 337kB 5.0MB/s eta 0:00:01\r\u001b[K     |███████████████████████████     | 348kB 5.0MB/s eta 0:00:01\r\u001b[K     |███████████████████████████▉    | 358kB 5.0MB/s eta 0:00:01\r\u001b[K     |████████████████████████████▊   | 368kB 5.0MB/s eta 0:00:01\r\u001b[K     |█████████████████████████████▌  | 378kB 5.0MB/s eta 0:00:01\r\u001b[K     |██████████████████████████████▎ | 389kB 5.0MB/s eta 0:00:01\r\u001b[K     |███████████████████████████████ | 399kB 5.0MB/s eta 0:00:01\r\u001b[K     |███████████████████████████████▉| 409kB 5.0MB/s eta 0:00:01\r\u001b[K     |████████████████████████████████| 419kB 5.0MB/s \n",
            "\u001b[?25hInstalling collected packages: backtrader\n",
            "Successfully installed backtrader-1.9.74.123\n"
          ],
          "name": "stdout"
        }
      ]
    },
    {
      "cell_type": "markdown",
      "metadata": {
        "id": "N3w_2e061ijh",
        "colab_type": "text"
      },
      "source": [
        "사용자가 backtesting system의 중요한 부분들, trading strategy, broker, sizers 등을 설정한다. 따라서 상당히 자율성이 보장되는 듯 하다. "
      ]
    },
    {
      "cell_type": "code",
      "metadata": {
        "id": "I3tUy7tlyoET",
        "colab_type": "code",
        "colab": {}
      },
      "source": [
        "import backtrader as bt\n",
        "import backtrader.indicators as btind\n",
        "import datetime\n",
        "import pandas as pd\n",
        "from pandas import Series, DataFrame\n",
        "import random\n",
        "from copy import deepcopy\n",
        "#from datetime import datetime"
      ],
      "execution_count": 0,
      "outputs": []
    },
    {
      "cell_type": "markdown",
      "metadata": {
        "id": "RtZQicv5168V",
        "colab_type": "text"
      },
      "source": [
        "package import 후에 simple moving average crossover strategy(SMA) 전략을 사용해서 backtrader 알고리즘을 테스트 해 볼 예정이다. \n"
      ]
    },
    {
      "cell_type": "markdown",
      "metadata": {
        "id": "c3JY_sPb2ncq",
        "colab_type": "text"
      },
      "source": [
        "전략을 규정하기 위해서, 우선 중요한 indicators를 정의하고 초기화하는 __init()__ method를 설정해야 한다.   \n",
        "그 뒤, 각 backtest bar에서 호출되는 next() method를 설정해야 한다.(buy, sell)    \n",
        "더 복잡한 시스템은 log() method를 사용해서 next()에서 logging functions를 호출하게 만들어 logging result를 확인해야 한다. \n"
      ]
    },
    {
      "cell_type": "code",
      "metadata": {
        "id": "Ve8h3Sd53hMF",
        "colab_type": "code",
        "colab": {}
      },
      "source": [
        "class SMAC(bt.Strategy):\n",
        "  params = {'fast':20, 'slow':50, #the windows for both fast and slow moving average \n",
        "            'optim':False, 'optim_fs':(20, 50)} #used for optimization. first # = fast MA's window\n",
        "                                                # second in tuple : slow MA's window\n",
        "  def __init__(self):\n",
        "    self.fastma = dict()\n",
        "    self.slowma = dict()\n",
        "    self.regime = dict()\n",
        "\n",
        "    self._addobserver(True, bt.observers.BuySell) \n",
        "\n",
        "    if self.params.optim:\n",
        "      self.params.fast, self.params.slow = self.params.optim_fs\n",
        "    \n",
        "    if self.params.fast > self.params.slow:\n",
        "      raise ValueError(\n",
        "          \"A SMAC strategy cannot have the fast moving average's whindow\"+\\\n",
        "          \"greater than the slow moving average window\"\n",
        "      )\n",
        "\n",
        "    for d in self.getdatanames():\n",
        "      #the moving averages\n",
        "      self.fastma[d] = btind.SimpleMovingAverage(self.getdatabyname(d),\n",
        "                                                 period=self.params.fast,\n",
        "                                                 plotname=\"FastMA: \"+ d)\n",
        "      self.slowma[d] = btind.SimpleMovingAverage(self.getdatabyname(d),\n",
        "                                                 period=self.params.slow,\n",
        "                                                 plotname=\"SlowMA\"+d)\n",
        "      self.regime[d] = self.fastma[d] - self.slowma[d]\n",
        "\n",
        "\n",
        "  def next(self):\n",
        "    for d in self.getdatanames(): #Looping through all symbols\n",
        "      pos = self.getpositionbyname(d).size or 0\n",
        "      if pos == 0: #Are we out or market?\n",
        "        #consider the possibility of entrance\n",
        "        # indexing! [0] : always means the present bar, [-1] the bar immediately preceding\n",
        "        if self.regime[d][0] > 0 and self.regime[d][-1] <= 0:\n",
        "          self.buy(data=self.getdatabyname(d))  #buy signal\n",
        "      else:\n",
        "        if self.regime[d][0] <= 0 and self.regime[d][-1] > 0:  # sell signal\n",
        "          self.sell(data=self.getdatabyname(d))\n",
        "\n",
        "\n"
      ],
      "execution_count": 0,
      "outputs": []
    },
    {
      "cell_type": "markdown",
      "metadata": {
        "id": "7l3_osz66XIw",
        "colab_type": "text"
      },
      "source": [
        "Strategy를 규정한 이후에, SIzer라고 불리는 sizing object를 생성한다. \n",
        "Sizer 객체는 얼마나 구매/얼마나 판매할지를 결정하는 역할을 한다.   \n",
        "여기에서는 그 시점에 포트폴리오의 10% 가치정도를 선택했다. \n",
        "또한 trades be done in batchs of 100 shares로 설정했다. \n"
      ]
    },
    {
      "cell_type": "code",
      "metadata": {
        "id": "sEqCOXC-6UBp",
        "colab_type": "code",
        "colab": {}
      },
      "source": [
        "class PropSizer(bt.Sizer):\n",
        "  params = {'prop':0.1, 'batch':100}\n",
        "\n",
        "  def _getsizing(self, comminfo, cash, data, isbuy):\n",
        "    if isbuy: #buying\n",
        "      target = self.broker.getvalue() * self.params.prop  #ideal total value of the position\n",
        "      price = data.close[0]\n",
        "      shares_ideal = target / price  #How many shares are needed to get target\n",
        "      batches = int(shares_ideal / self.params.batch)\n",
        "      shares = batches * self.params.batch\n",
        "\n",
        "      if shares * price > cash : \n",
        "        return 0  #Not enough money for this trade\n",
        "\n",
        "      else:\n",
        "        return shares\n",
        "    else:\n",
        "      return self.broker.getposition(data).size  #clear the position"
      ],
      "execution_count": 0,
      "outputs": []
    },
    {
      "cell_type": "markdown",
      "metadata": {
        "id": "L27JCE287tam",
        "colab_type": "text"
      },
      "source": [
        "### Getting Cerebral with Cerebro\n",
        "\n",
        "- Cerebro 객체는 backtest와 분석의 실행 역할을 하는 객체이다. "
      ]
    },
    {
      "cell_type": "code",
      "metadata": {
        "id": "JKBrzLA07stk",
        "colab_type": "code",
        "colab": {}
      },
      "source": [
        "cerebro = bt.Cerebro(stdstats=False)"
      ],
      "execution_count": 0,
      "outputs": []
    },
    {
      "cell_type": "code",
      "metadata": {
        "id": "kCCgNdHS75I0",
        "colab_type": "code",
        "colab": {}
      },
      "source": [
        "cerebro.broker.set_cash(1000000)  #set our starting cash\n",
        "cerebro.broker.setcommission(0.02)"
      ],
      "execution_count": 0,
      "outputs": []
    },
    {
      "cell_type": "markdown",
      "metadata": {
        "id": "os3hSJRV8E0n",
        "colab_type": "text"
      },
      "source": [
        "get some money and give it to our 'broker' and also assign 2% commision to the broker"
      ]
    },
    {
      "cell_type": "markdown",
      "metadata": {
        "id": "cRpdjXUE8O5C",
        "colab_type": "text"
      },
      "source": [
        "이제 Cerebro 객체에 넣을 데이터가 필요하다. \n",
        "pandas DataFrame, CSV files, databases, live data streams 모두 feed 가능하다. "
      ]
    },
    {
      "cell_type": "code",
      "metadata": {
        "id": "8b1Cg-W08LhJ",
        "colab_type": "code",
        "colab": {}
      },
      "source": [
        "start = datetime.datetime(2010, 1, 1)\n",
        "end = datetime.datetime(2016, 10, 31)\n",
        "is_first = True\n",
        "\n",
        "symbols = [\"AAPL\", \"GOOG\", \"AMZN\", \"NVDA\"]\n",
        "plot_symbols = [\"AAPL\", \"GOOG\", \"NVDA\"]\n",
        "\n",
        "for s in symbols:\n",
        "  data = bt.feeds.YahooFinanceData(dataname=s, fromdate = start, todate=end)\n",
        "  if s in plot_symbols:\n",
        "    if is_first:\n",
        "      data_main_plot = data\n",
        "      is_first = False\n",
        "    else:\n",
        "      data.plotinfo.plotmaster = data_main_plot\n",
        "  else:\n",
        "    data.plotinfo.plot = False\n",
        "  cerebro.adddata(data)"
      ],
      "execution_count": 0,
      "outputs": []
    },
    {
      "cell_type": "markdown",
      "metadata": {
        "id": "HOvHv2yl9aAK",
        "colab_type": "text"
      },
      "source": [
        "이제 계좌 잔액을 추적하는 observer를 추가한다. \n",
        "observer : instance of what is known as an Observer object\n",
        "Cerebro 객체가 생성되면 backtrader의 기본값은 자동적으로 Buy와 Sell order가 발생하면 계좌의 cash, value, occurrence of trades 3개의 값들을 추적하는 observers를 부착한다.\n"
      ]
    },
    {
      "cell_type": "markdown",
      "metadata": {
        "id": "YiUWvVVH-BWu",
        "colab_type": "text"
      },
      "source": [
        "Observer 역시 next() method를 보유하고 있다. \n",
        "주의해야 하는 점   \n",
        "index [0] : backtrader에서는 현재 step에서 현재 value를 의미한다. (today)    \n",
        "index [-1] : 이전 value, 혹은 yesterday    \n",
        "index[-2] : two days ago   \n",
        "index [1] : tomorrow ... \n"
      ]
    },
    {
      "cell_type": "code",
      "metadata": {
        "id": "SekXWQYH9MMe",
        "colab_type": "code",
        "colab": {}
      },
      "source": [
        "class AcctValue(bt.Observer):\n",
        "  alias = ('Value',)\n",
        "  lines = ('value',)\n",
        "\n",
        "  plotinfo = {'plot':True, 'subplot':True}\n",
        "\n",
        "  def next(self):\n",
        "    self.lines.value[0] = self._owner.broker.getvalue()  #get today's account value (cash+stocks)"
      ],
      "execution_count": 0,
      "outputs": []
    },
    {
      "cell_type": "code",
      "metadata": {
        "id": "7p2216-M-xD-",
        "colab_type": "code",
        "colab": {}
      },
      "source": [
        "cerebro.addobserver(AcctValue)\n",
        "cerebro.addstrategy(SMAC)\n",
        "cerebro.addsizer(PropSizer)"
      ],
      "execution_count": 0,
      "outputs": []
    },
    {
      "cell_type": "code",
      "metadata": {
        "id": "ivTrgyNQ-7t0",
        "colab_type": "code",
        "colab": {
          "base_uri": "https://localhost:8080/",
          "height": 36
        },
        "outputId": "606d4741-c52d-4fd8-b30f-88b876746780"
      },
      "source": [
        "cerebro.broker.getvalue()"
      ],
      "execution_count": 36,
      "outputs": [
        {
          "output_type": "execute_result",
          "data": {
            "text/plain": [
              "1000000"
            ]
          },
          "metadata": {
            "tags": []
          },
          "execution_count": 36
        }
      ]
    },
    {
      "cell_type": "code",
      "metadata": {
        "id": "t6yHfPjf-_yD",
        "colab_type": "code",
        "colab": {
          "base_uri": "https://localhost:8080/",
          "height": 36
        },
        "outputId": "c865e227-45b0-46e0-b049-6f0fce7821e8"
      },
      "source": [
        "cerebro.run()"
      ],
      "execution_count": 37,
      "outputs": [
        {
          "output_type": "execute_result",
          "data": {
            "text/plain": [
              "[<__main__.SMAC at 0x7f6a28826a90>]"
            ]
          },
          "metadata": {
            "tags": []
          },
          "execution_count": 37
        }
      ]
    },
    {
      "cell_type": "code",
      "metadata": {
        "id": "plv1jOuR_mDE",
        "colab_type": "code",
        "colab": {
          "base_uri": "https://localhost:8080/",
          "height": 480
        },
        "outputId": "1eff9278-b8af-4a8a-fca0-4d08f3f93ebc"
      },
      "source": [
        "cerebro.plot(iplot=True, volume=Falsec)"
      ],
      "execution_count": 38,
      "outputs": [
        {
          "output_type": "error",
          "ename": "ImportError",
          "evalue": "ignored",
          "traceback": [
            "\u001b[0;31m---------------------------------------------------------------------------\u001b[0m",
            "\u001b[0;31mImportError\u001b[0m                               Traceback (most recent call last)",
            "\u001b[0;32m<ipython-input-38-fb0de674efd8>\u001b[0m in \u001b[0;36m<module>\u001b[0;34m()\u001b[0m\n\u001b[0;32m----> 1\u001b[0;31m \u001b[0mcerebro\u001b[0m\u001b[0;34m.\u001b[0m\u001b[0mplot\u001b[0m\u001b[0;34m(\u001b[0m\u001b[0miplot\u001b[0m\u001b[0;34m=\u001b[0m\u001b[0;32mTrue\u001b[0m\u001b[0;34m,\u001b[0m \u001b[0mvolume\u001b[0m\u001b[0;34m=\u001b[0m\u001b[0;32mFalse\u001b[0m\u001b[0;34m)\u001b[0m\u001b[0;34m\u001b[0m\u001b[0;34m\u001b[0m\u001b[0m\n\u001b[0m",
            "\u001b[0;32m/usr/local/lib/python3.6/dist-packages/backtrader/cerebro.py\u001b[0m in \u001b[0;36mplot\u001b[0;34m(self, plotter, numfigs, iplot, start, end, width, height, dpi, tight, use, **kwargs)\u001b[0m\n\u001b[1;32m    972\u001b[0m \u001b[0;34m\u001b[0m\u001b[0m\n\u001b[1;32m    973\u001b[0m         \u001b[0;32mif\u001b[0m \u001b[0;32mnot\u001b[0m \u001b[0mplotter\u001b[0m\u001b[0;34m:\u001b[0m\u001b[0;34m\u001b[0m\u001b[0;34m\u001b[0m\u001b[0m\n\u001b[0;32m--> 974\u001b[0;31m             \u001b[0;32mfrom\u001b[0m \u001b[0;34m.\u001b[0m \u001b[0;32mimport\u001b[0m \u001b[0mplot\u001b[0m\u001b[0;34m\u001b[0m\u001b[0;34m\u001b[0m\u001b[0m\n\u001b[0m\u001b[1;32m    975\u001b[0m             \u001b[0;32mif\u001b[0m \u001b[0mself\u001b[0m\u001b[0;34m.\u001b[0m\u001b[0mp\u001b[0m\u001b[0;34m.\u001b[0m\u001b[0moldsync\u001b[0m\u001b[0;34m:\u001b[0m\u001b[0;34m\u001b[0m\u001b[0;34m\u001b[0m\u001b[0m\n\u001b[1;32m    976\u001b[0m                 \u001b[0mplotter\u001b[0m \u001b[0;34m=\u001b[0m \u001b[0mplot\u001b[0m\u001b[0;34m.\u001b[0m\u001b[0mPlot_OldSync\u001b[0m\u001b[0;34m(\u001b[0m\u001b[0;34m**\u001b[0m\u001b[0mkwargs\u001b[0m\u001b[0;34m)\u001b[0m\u001b[0;34m\u001b[0m\u001b[0;34m\u001b[0m\u001b[0m\n",
            "\u001b[0;32m/usr/local/lib/python3.6/dist-packages/backtrader/plot/__init__.py\u001b[0m in \u001b[0;36m<module>\u001b[0;34m()\u001b[0m\n\u001b[1;32m     28\u001b[0m         'Matplotlib seems to be missing. Needed for plotting support')\n\u001b[1;32m     29\u001b[0m \u001b[0;32melse\u001b[0m\u001b[0;34m:\u001b[0m\u001b[0;34m\u001b[0m\u001b[0;34m\u001b[0m\u001b[0m\n\u001b[0;32m---> 30\u001b[0;31m     \u001b[0mmatplotlib\u001b[0m\u001b[0;34m.\u001b[0m\u001b[0muse\u001b[0m\u001b[0;34m(\u001b[0m\u001b[0;34m'TkAgg'\u001b[0m\u001b[0;34m)\u001b[0m\u001b[0;34m\u001b[0m\u001b[0;34m\u001b[0m\u001b[0m\n\u001b[0m\u001b[1;32m     31\u001b[0m \u001b[0;34m\u001b[0m\u001b[0m\n\u001b[1;32m     32\u001b[0m \u001b[0;34m\u001b[0m\u001b[0m\n",
            "\u001b[0;32m/usr/local/lib/python3.6/dist-packages/matplotlib/cbook/deprecation.py\u001b[0m in \u001b[0;36mwrapper\u001b[0;34m(*args, **kwargs)\u001b[0m\n\u001b[1;32m    305\u001b[0m                 f\"for the old name will be dropped %(removal)s.\")\n\u001b[1;32m    306\u001b[0m             \u001b[0mkwargs\u001b[0m\u001b[0;34m[\u001b[0m\u001b[0mnew\u001b[0m\u001b[0;34m]\u001b[0m \u001b[0;34m=\u001b[0m \u001b[0mkwargs\u001b[0m\u001b[0;34m.\u001b[0m\u001b[0mpop\u001b[0m\u001b[0;34m(\u001b[0m\u001b[0mold\u001b[0m\u001b[0;34m)\u001b[0m\u001b[0;34m\u001b[0m\u001b[0;34m\u001b[0m\u001b[0m\n\u001b[0;32m--> 307\u001b[0;31m         \u001b[0;32mreturn\u001b[0m \u001b[0mfunc\u001b[0m\u001b[0;34m(\u001b[0m\u001b[0;34m*\u001b[0m\u001b[0margs\u001b[0m\u001b[0;34m,\u001b[0m \u001b[0;34m**\u001b[0m\u001b[0mkwargs\u001b[0m\u001b[0;34m)\u001b[0m\u001b[0;34m\u001b[0m\u001b[0;34m\u001b[0m\u001b[0m\n\u001b[0m\u001b[1;32m    308\u001b[0m \u001b[0;34m\u001b[0m\u001b[0m\n\u001b[1;32m    309\u001b[0m     \u001b[0;31m# wrapper() must keep the same documented signature as func(): if we\u001b[0m\u001b[0;34m\u001b[0m\u001b[0;34m\u001b[0m\u001b[0;34m\u001b[0m\u001b[0m\n",
            "\u001b[0;32m/usr/local/lib/python3.6/dist-packages/matplotlib/__init__.py\u001b[0m in \u001b[0;36muse\u001b[0;34m(backend, warn, force)\u001b[0m\n\u001b[1;32m   1307\u001b[0m         \u001b[0;32mif\u001b[0m \u001b[0mforce\u001b[0m\u001b[0;34m:\u001b[0m\u001b[0;34m\u001b[0m\u001b[0;34m\u001b[0m\u001b[0m\n\u001b[1;32m   1308\u001b[0m             \u001b[0;32mfrom\u001b[0m \u001b[0mmatplotlib\u001b[0m\u001b[0;34m.\u001b[0m\u001b[0mpyplot\u001b[0m \u001b[0;32mimport\u001b[0m \u001b[0mswitch_backend\u001b[0m\u001b[0;34m\u001b[0m\u001b[0;34m\u001b[0m\u001b[0m\n\u001b[0;32m-> 1309\u001b[0;31m             \u001b[0mswitch_backend\u001b[0m\u001b[0;34m(\u001b[0m\u001b[0mname\u001b[0m\u001b[0;34m)\u001b[0m\u001b[0;34m\u001b[0m\u001b[0;34m\u001b[0m\u001b[0m\n\u001b[0m\u001b[1;32m   1310\u001b[0m     \u001b[0;32melse\u001b[0m\u001b[0;34m:\u001b[0m\u001b[0;34m\u001b[0m\u001b[0;34m\u001b[0m\u001b[0m\n\u001b[1;32m   1311\u001b[0m         \u001b[0;31m# Finally if pyplot is not imported update both rcParams and\u001b[0m\u001b[0;34m\u001b[0m\u001b[0;34m\u001b[0m\u001b[0;34m\u001b[0m\u001b[0m\n",
            "\u001b[0;32m/usr/local/lib/python3.6/dist-packages/matplotlib/pyplot.py\u001b[0m in \u001b[0;36mswitch_backend\u001b[0;34m(newbackend)\u001b[0m\n\u001b[1;32m    234\u001b[0m                 \u001b[0;34m\"Cannot load backend {!r} which requires the {!r} interactive \"\u001b[0m\u001b[0;34m\u001b[0m\u001b[0;34m\u001b[0m\u001b[0m\n\u001b[1;32m    235\u001b[0m                 \"framework, as {!r} is currently running\".format(\n\u001b[0;32m--> 236\u001b[0;31m                     newbackend, required_framework, current_framework))\n\u001b[0m\u001b[1;32m    237\u001b[0m \u001b[0;34m\u001b[0m\u001b[0m\n\u001b[1;32m    238\u001b[0m     \u001b[0mrcParams\u001b[0m\u001b[0;34m[\u001b[0m\u001b[0;34m'backend'\u001b[0m\u001b[0;34m]\u001b[0m \u001b[0;34m=\u001b[0m \u001b[0mrcParamsDefault\u001b[0m\u001b[0;34m[\u001b[0m\u001b[0;34m'backend'\u001b[0m\u001b[0;34m]\u001b[0m \u001b[0;34m=\u001b[0m \u001b[0mnewbackend\u001b[0m\u001b[0;34m\u001b[0m\u001b[0;34m\u001b[0m\u001b[0m\n",
            "\u001b[0;31mImportError\u001b[0m: Cannot load backend 'TkAgg' which requires the 'tk' interactive framework, as 'headless' is currently running",
            "",
            "\u001b[0;31m---------------------------------------------------------------------------\u001b[0;32m\nNOTE: If your import is failing due to a missing package, you can\nmanually install dependencies using either !pip or !apt.\n\nTo view examples of installing some common dependencies, click the\n\"Open Examples\" button below.\n\u001b[0;31m---------------------------------------------------------------------------\u001b[0m\n"
          ]
        }
      ]
    },
    {
      "cell_type": "code",
      "metadata": {
        "id": "HRpH0LYA_toY",
        "colab_type": "code",
        "colab": {
          "base_uri": "https://localhost:8080/",
          "height": 36
        },
        "outputId": "cb140be2-b49d-4edd-87fb-a972c651a8d9"
      },
      "source": [
        "cerebro.broker.getvalue()"
      ],
      "execution_count": 39,
      "outputs": [
        {
          "output_type": "execute_result",
          "data": {
            "text/plain": [
              "1139128.4599999995"
            ]
          },
          "metadata": {
            "tags": []
          },
          "execution_count": 39
        }
      ]
    }
  ]
}