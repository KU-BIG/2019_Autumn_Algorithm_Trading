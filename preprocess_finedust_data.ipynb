{
 "cells": [
  {
   "cell_type": "markdown",
   "metadata": {},
   "source": [
    "## Reference\n",
    "\n",
    "- [에어코리아 최종확정 측정자료조회](https://www.airkorea.or.kr/web/pastSearch?pMENU_NO=123)"
   ]
  },
  {
   "cell_type": "code",
   "execution_count": 2,
   "metadata": {},
   "outputs": [],
   "source": [
    "import glob\n",
    "\n",
    "import pandas as pd\n",
    "\n",
    "import tqdm\n",
    "from multiprocessing.pool import ThreadPool"
   ]
  },
  {
   "cell_type": "markdown",
   "metadata": {},
   "source": [
    "## Resave .xlsx files as .csv and .pkl for reuse (with single core)"
   ]
  },
  {
   "cell_type": "code",
   "execution_count": null,
   "metadata": {},
   "outputs": [],
   "source": [
    "folders = glob.glob('data/finedust/raw_excel/*')\n",
    "\n",
    "all_files = []\n",
    "\n",
    "for folder in folders :\n",
    "    files = glob.glob(folder+'/*')\n",
    "    for file in files :\n",
    "        all_files.append(file)\n",
    "\n",
    "with tqdm.tqdm(total=len(all_files)) as pbar :\n",
    "    for filename in all_files : \n",
    "        print(filename)\n",
    "        excel = pd.read_excel(filename)\n",
    "        excel.to_pickle(filename.replace('raw_excel', 'raw_pickle').replace('.xlsx', '.pkl'))\n",
    "        excel.to_csv(filename.replace('raw_excel', 'raw_csv').replace('.xlsx', '.csv'))\n",
    "        pbar.update(1)"
   ]
  },
  {
   "cell_type": "markdown",
   "metadata": {},
   "source": [
    "## Resave .xlsx files as .csv and .pkl for reuse (with multi cores)"
   ]
  },
  {
   "cell_type": "code",
   "execution_count": null,
   "metadata": {},
   "outputs": [
    {
     "name": "stderr",
     "output_type": "stream",
     "text": [
      "  0%|          | 0/77 [00:00<?, ?it/s]"
     ]
    },
    {
     "name": "stdout",
     "output_type": "stream",
     "text": [
      "data/finedust/raw_excel/2013/2013-01.xlsx\n",
      "data/finedust/raw_excel/2013/2013-04.xlsx\n",
      "data/finedust/raw_excel/2013/2013-03.xlsx\n",
      "data/finedust/raw_excel/2013/2013-02.xlsx\n"
     ]
    }
   ],
   "source": [
    "num_of_cores = 4\n",
    "\n",
    "folders = glob.glob('data/finedust/raw_excel/*')\n",
    "\n",
    "all_files = []\n",
    "\n",
    "for folder in folders :\n",
    "    files = glob.glob(folder+'/*')\n",
    "    for file in files :\n",
    "        all_files.append(file)\n",
    "        \n",
    "        \n",
    "def load_excel_and_save_as_pickle_and_csv(filename) : \n",
    "    print(filename)\n",
    "    excel = pd.read_excel(filename)\n",
    "    excel.to_pickle(filename.replace('raw_excel', 'raw_pickle').replace('.xlsx', '.pkl'))\n",
    "    excel.to_csv(filename.replace('raw_excel', 'raw_csv').replace('.xlsx', '.csv'))\n",
    "    pbar.update(1)\n",
    "    return\n",
    "\n",
    "pool = ThreadPool(num_of_cores)\n",
    "\n",
    "with tqdm.tqdm(total=len(all_files)) as pbar :\n",
    "    for filename in all_files : \n",
    "        pool.apply_async(load_excel_and_save_as_pickle_and_csv, [filename])       \n",
    "    pool.close()\n",
    "    pool.join()"
   ]
  },
  {
   "cell_type": "code",
   "execution_count": null,
   "metadata": {},
   "outputs": [],
   "source": []
  }
 ],
 "metadata": {
  "kernelspec": {
   "display_name": "Python 3",
   "language": "python",
   "name": "python3"
  },
  "language_info": {
   "codemirror_mode": {
    "name": "ipython",
    "version": 3
   },
   "file_extension": ".py",
   "mimetype": "text/x-python",
   "name": "python",
   "nbconvert_exporter": "python",
   "pygments_lexer": "ipython3",
   "version": "3.6.8"
  }
 },
 "nbformat": 4,
 "nbformat_minor": 4
}
