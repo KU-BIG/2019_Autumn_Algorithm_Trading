{
 "cells": [
  {
   "cell_type": "code",
   "execution_count": 2,
   "metadata": {},
   "outputs": [],
   "source": [
    "import numpy as np\n",
    "import torch\n",
    "from torch import nn "
   ]
  },
  {
   "cell_type": "code",
   "execution_count": 3,
   "metadata": {},
   "outputs": [
    {
     "name": "stdout",
     "output_type": "stream",
     "text": [
      "[[0 0 1 0 0 0 0]\n",
      " [1 0 0 0 0 0 0]\n",
      " [0 1 1 0 0 0 0]\n",
      " [1 0 1 0 0 0 0]\n",
      " [0 1 0 0 0 0 0]\n",
      " [0 0 0 1 0 0 0]\n",
      " [0 0 0 1 1 0 0]\n",
      " [0 0 0 0 1 0 0]\n",
      " [0 0 0 0 0 0 1]\n",
      " [0 0 0 0 0 1 0]]\n",
      "(10, 7)\n"
     ]
    }
   ],
   "source": [
    "# 인접행렬 생성 \n",
    "\n",
    "mat = np.array([[0,0,1,0,0,0,0],[1,0,0,0,0,0,0],[0,1,1,0,0,0,0],[1,0,1,0,0,0,0],[0,1,0,0,0,0,0],[0,0,0,1,0,0,0],[0,0,0,1,1,0,0],[0,0,0,0,1,0,0],[0,0,0,0,0,0,1],[0,0,0,0,0,1,0]])\n",
    "print(mat)\n",
    "print(mat.shape)"
   ]
  },
  {
   "cell_type": "code",
   "execution_count": 5,
   "metadata": {},
   "outputs": [],
   "source": [
    "#아래 코드를 좀 변형하면 될듯?\n",
    "class MaskedLinear(nn.Module):\n",
    "    def __init__(self, in_dim, out_dim, indices_mask):\n",
    "        \"\"\"\n",
    "       :param in_features: number of input features\n",
    "       :param out_features: number of output features\n",
    "       :param indices_mask: list of two lists containing indices for dimensions 0 and 1, used to create the mask\n",
    "       \"\"\"\n",
    "        super(MaskedLinear, self).__init__()\n",
    "        \n",
    " \n",
    "        def backward_hook(grad):\n",
    "            # Clone due to not being allowed to modify in-place gradients\n",
    "            out = grad.clone()\n",
    "            out[self.mask] = 0\n",
    "            return out\n",
    " \n",
    "        self.linear = nn.Linear(in_dim, out_dim).cuda()\n",
    "        self.mask = torch.ones([out_dim, in_dim]).byte().cuda()\n",
    "        self.mask[indices_mask] = 0 # create mask\n",
    "        self.linear.weight.data[self.mask] = 0 # zero out bad weights\n",
    "        self.linear.weight.register_hook(backward_hook) # hook to zero out bad gradients\n",
    " \n",
    "    def forward(self, input):\n",
    "        return self.linear(input)\n",
    "    \n",
    "    \n"
   ]
  },
  {
   "cell_type": "code",
   "execution_count": null,
   "metadata": {},
   "outputs": [],
   "source": []
  }
 ],
 "metadata": {
  "kernelspec": {
   "display_name": "Python 3",
   "language": "python",
   "name": "python3"
  },
  "language_info": {
   "codemirror_mode": {
    "name": "ipython",
    "version": 3
   },
   "file_extension": ".py",
   "mimetype": "text/x-python",
   "name": "python",
   "nbconvert_exporter": "python",
   "pygments_lexer": "ipython3",
   "version": "3.6.5"
  }
 },
 "nbformat": 4,
 "nbformat_minor": 2
}
