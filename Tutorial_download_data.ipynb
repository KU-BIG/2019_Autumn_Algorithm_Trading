{
 "cells": [
  {
   "cell_type": "code",
   "execution_count": 1,
   "metadata": {},
   "outputs": [],
   "source": [
    "%matplotlib inline\n",
    "%load_ext autoreload\n",
    "%autoreload 2"
   ]
  },
  {
   "cell_type": "code",
   "execution_count": 16,
   "metadata": {},
   "outputs": [],
   "source": [
    "import numpy as np\n",
    "import pandas as pd\n",
    "import matplotlib.pyplot as plt\n",
    "import statsmodels.tsa.stattools as ts"
   ]
  },
  {
   "cell_type": "markdown",
   "metadata": {},
   "source": [
    "# Data From Yahoo Finance\n",
    "\n",
    "- Only provides daily data (no mins, secs)"
   ]
  },
  {
   "cell_type": "code",
   "execution_count": 3,
   "metadata": {},
   "outputs": [],
   "source": [
    "from data_io import download_stock_data, load_stock_data"
   ]
  },
  {
   "cell_type": "code",
   "execution_count": 4,
   "metadata": {},
   "outputs": [
    {
     "data": {
      "text/html": [
       "<div>\n",
       "<style scoped>\n",
       "    .dataframe tbody tr th:only-of-type {\n",
       "        vertical-align: middle;\n",
       "    }\n",
       "\n",
       "    .dataframe tbody tr th {\n",
       "        vertical-align: top;\n",
       "    }\n",
       "\n",
       "    .dataframe thead th {\n",
       "        text-align: right;\n",
       "    }\n",
       "</style>\n",
       "<table border=\"1\" class=\"dataframe\">\n",
       "  <thead>\n",
       "    <tr style=\"text-align: right;\">\n",
       "      <th></th>\n",
       "      <th>High</th>\n",
       "      <th>Low</th>\n",
       "      <th>Open</th>\n",
       "      <th>Close</th>\n",
       "      <th>Volume</th>\n",
       "      <th>Adj Close</th>\n",
       "    </tr>\n",
       "    <tr>\n",
       "      <th>Date</th>\n",
       "      <th></th>\n",
       "      <th></th>\n",
       "      <th></th>\n",
       "      <th></th>\n",
       "      <th></th>\n",
       "      <th></th>\n",
       "    </tr>\n",
       "  </thead>\n",
       "  <tbody>\n",
       "    <tr>\n",
       "      <td>2015-01-02</td>\n",
       "      <td>26800.0</td>\n",
       "      <td>26540.0</td>\n",
       "      <td>26800.0</td>\n",
       "      <td>26600.0</td>\n",
       "      <td>8774950.0</td>\n",
       "      <td>257.958313</td>\n",
       "    </tr>\n",
       "    <tr>\n",
       "      <td>2015-01-05</td>\n",
       "      <td>26720.0</td>\n",
       "      <td>26260.0</td>\n",
       "      <td>26720.0</td>\n",
       "      <td>26660.0</td>\n",
       "      <td>10139500.0</td>\n",
       "      <td>258.540161</td>\n",
       "    </tr>\n",
       "    <tr>\n",
       "      <td>2015-01-06</td>\n",
       "      <td>26340.0</td>\n",
       "      <td>25760.0</td>\n",
       "      <td>26300.0</td>\n",
       "      <td>25900.0</td>\n",
       "      <td>15235500.0</td>\n",
       "      <td>251.169937</td>\n",
       "    </tr>\n",
       "    <tr>\n",
       "      <td>2015-01-07</td>\n",
       "      <td>26220.0</td>\n",
       "      <td>25640.0</td>\n",
       "      <td>25880.0</td>\n",
       "      <td>26140.0</td>\n",
       "      <td>14322750.0</td>\n",
       "      <td>253.497406</td>\n",
       "    </tr>\n",
       "    <tr>\n",
       "      <td>2015-01-08</td>\n",
       "      <td>26780.0</td>\n",
       "      <td>26200.0</td>\n",
       "      <td>26780.0</td>\n",
       "      <td>26280.0</td>\n",
       "      <td>14477600.0</td>\n",
       "      <td>254.855087</td>\n",
       "    </tr>\n",
       "    <tr>\n",
       "      <td>...</td>\n",
       "      <td>...</td>\n",
       "      <td>...</td>\n",
       "      <td>...</td>\n",
       "      <td>...</td>\n",
       "      <td>...</td>\n",
       "      <td>...</td>\n",
       "    </tr>\n",
       "    <tr>\n",
       "      <td>2015-11-25</td>\n",
       "      <td>26200.0</td>\n",
       "      <td>25980.0</td>\n",
       "      <td>26000.0</td>\n",
       "      <td>25980.0</td>\n",
       "      <td>7131350.0</td>\n",
       "      <td>262.204163</td>\n",
       "    </tr>\n",
       "    <tr>\n",
       "      <td>2015-11-26</td>\n",
       "      <td>26800.0</td>\n",
       "      <td>25980.0</td>\n",
       "      <td>25980.0</td>\n",
       "      <td>26700.0</td>\n",
       "      <td>9290000.0</td>\n",
       "      <td>269.470734</td>\n",
       "    </tr>\n",
       "    <tr>\n",
       "      <td>2015-11-27</td>\n",
       "      <td>26980.0</td>\n",
       "      <td>26540.0</td>\n",
       "      <td>26900.0</td>\n",
       "      <td>26540.0</td>\n",
       "      <td>8492700.0</td>\n",
       "      <td>267.855957</td>\n",
       "    </tr>\n",
       "    <tr>\n",
       "      <td>2015-11-30</td>\n",
       "      <td>26500.0</td>\n",
       "      <td>25680.0</td>\n",
       "      <td>26500.0</td>\n",
       "      <td>25680.0</td>\n",
       "      <td>26700300.0</td>\n",
       "      <td>259.176392</td>\n",
       "    </tr>\n",
       "    <tr>\n",
       "      <td>2015-12-01</td>\n",
       "      <td>26440.0</td>\n",
       "      <td>25760.0</td>\n",
       "      <td>25880.0</td>\n",
       "      <td>26420.0</td>\n",
       "      <td>12605650.0</td>\n",
       "      <td>266.644897</td>\n",
       "    </tr>\n",
       "  </tbody>\n",
       "</table>\n",
       "<p>229 rows × 6 columns</p>\n",
       "</div>"
      ],
      "text/plain": [
       "               High      Low     Open    Close      Volume   Adj Close\n",
       "Date                                                                  \n",
       "2015-01-02  26800.0  26540.0  26800.0  26600.0   8774950.0  257.958313\n",
       "2015-01-05  26720.0  26260.0  26720.0  26660.0  10139500.0  258.540161\n",
       "2015-01-06  26340.0  25760.0  26300.0  25900.0  15235500.0  251.169937\n",
       "2015-01-07  26220.0  25640.0  25880.0  26140.0  14322750.0  253.497406\n",
       "2015-01-08  26780.0  26200.0  26780.0  26280.0  14477600.0  254.855087\n",
       "...             ...      ...      ...      ...         ...         ...\n",
       "2015-11-25  26200.0  25980.0  26000.0  25980.0   7131350.0  262.204163\n",
       "2015-11-26  26800.0  25980.0  25980.0  26700.0   9290000.0  269.470734\n",
       "2015-11-27  26980.0  26540.0  26900.0  26540.0   8492700.0  267.855957\n",
       "2015-11-30  26500.0  25680.0  26500.0  25680.0  26700300.0  259.176392\n",
       "2015-12-01  26440.0  25760.0  25880.0  26420.0  12605650.0  266.644897\n",
       "\n",
       "[229 rows x 6 columns]"
      ]
     },
     "execution_count": 4,
     "metadata": {},
     "output_type": "execute_result"
    }
   ],
   "source": [
    "download_stock_data('data/samsung.data', '005930', 2015, 1, 1, 2015, 11, 30)"
   ]
  },
  {
   "cell_type": "code",
   "execution_count": 5,
   "metadata": {},
   "outputs": [
    {
     "data": {
      "text/html": [
       "<div>\n",
       "<style scoped>\n",
       "    .dataframe tbody tr th:only-of-type {\n",
       "        vertical-align: middle;\n",
       "    }\n",
       "\n",
       "    .dataframe tbody tr th {\n",
       "        vertical-align: top;\n",
       "    }\n",
       "\n",
       "    .dataframe thead th {\n",
       "        text-align: right;\n",
       "    }\n",
       "</style>\n",
       "<table border=\"1\" class=\"dataframe\">\n",
       "  <thead>\n",
       "    <tr style=\"text-align: right;\">\n",
       "      <th></th>\n",
       "      <th>High</th>\n",
       "      <th>Low</th>\n",
       "      <th>Open</th>\n",
       "      <th>Close</th>\n",
       "      <th>Volume</th>\n",
       "      <th>Adj Close</th>\n",
       "    </tr>\n",
       "    <tr>\n",
       "      <th>Date</th>\n",
       "      <th></th>\n",
       "      <th></th>\n",
       "      <th></th>\n",
       "      <th></th>\n",
       "      <th></th>\n",
       "      <th></th>\n",
       "    </tr>\n",
       "  </thead>\n",
       "  <tbody>\n",
       "    <tr>\n",
       "      <td>2015-01-02</td>\n",
       "      <td>88948.203125</td>\n",
       "      <td>87715.203125</td>\n",
       "      <td>87715.203125</td>\n",
       "      <td>88948.203125</td>\n",
       "      <td>45869</td>\n",
       "      <td>88565.664062</td>\n",
       "    </tr>\n",
       "    <tr>\n",
       "      <td>2015-01-05</td>\n",
       "      <td>88507.796875</td>\n",
       "      <td>85513.500000</td>\n",
       "      <td>87715.203125</td>\n",
       "      <td>87010.703125</td>\n",
       "      <td>50491</td>\n",
       "      <td>86636.500000</td>\n",
       "    </tr>\n",
       "    <tr>\n",
       "      <td>2015-01-06</td>\n",
       "      <td>87451.000000</td>\n",
       "      <td>85073.203125</td>\n",
       "      <td>85953.898438</td>\n",
       "      <td>86130.000000</td>\n",
       "      <td>45278</td>\n",
       "      <td>85759.578125</td>\n",
       "    </tr>\n",
       "    <tr>\n",
       "      <td>2015-01-07</td>\n",
       "      <td>86570.398438</td>\n",
       "      <td>84280.601562</td>\n",
       "      <td>86218.101562</td>\n",
       "      <td>85953.898438</td>\n",
       "      <td>39787</td>\n",
       "      <td>85584.226562</td>\n",
       "    </tr>\n",
       "    <tr>\n",
       "      <td>2015-01-08</td>\n",
       "      <td>88948.203125</td>\n",
       "      <td>84985.101562</td>\n",
       "      <td>85425.500000</td>\n",
       "      <td>88948.203125</td>\n",
       "      <td>40097</td>\n",
       "      <td>88565.664062</td>\n",
       "    </tr>\n",
       "    <tr>\n",
       "      <td>...</td>\n",
       "      <td>...</td>\n",
       "      <td>...</td>\n",
       "      <td>...</td>\n",
       "      <td>...</td>\n",
       "      <td>...</td>\n",
       "      <td>...</td>\n",
       "    </tr>\n",
       "    <tr>\n",
       "      <td>2015-11-25</td>\n",
       "      <td>749454.000000</td>\n",
       "      <td>717750.000000</td>\n",
       "      <td>722154.000000</td>\n",
       "      <td>737125.000000</td>\n",
       "      <td>211174</td>\n",
       "      <td>733954.812500</td>\n",
       "    </tr>\n",
       "    <tr>\n",
       "      <td>2015-11-26</td>\n",
       "      <td>755619.000000</td>\n",
       "      <td>732722.000000</td>\n",
       "      <td>744170.000000</td>\n",
       "      <td>732722.000000</td>\n",
       "      <td>159779</td>\n",
       "      <td>729570.750000</td>\n",
       "    </tr>\n",
       "    <tr>\n",
       "      <td>2015-11-27</td>\n",
       "      <td>738006.000000</td>\n",
       "      <td>716870.000000</td>\n",
       "      <td>736244.000000</td>\n",
       "      <td>727438.000000</td>\n",
       "      <td>143288</td>\n",
       "      <td>724309.437500</td>\n",
       "    </tr>\n",
       "    <tr>\n",
       "      <td>2015-11-30</td>\n",
       "      <td>722154.000000</td>\n",
       "      <td>684285.000000</td>\n",
       "      <td>720392.000000</td>\n",
       "      <td>699256.000000</td>\n",
       "      <td>287918</td>\n",
       "      <td>696248.687500</td>\n",
       "    </tr>\n",
       "    <tr>\n",
       "      <td>2015-12-01</td>\n",
       "      <td>705421.000000</td>\n",
       "      <td>665790.000000</td>\n",
       "      <td>700137.000000</td>\n",
       "      <td>672836.000000</td>\n",
       "      <td>307468</td>\n",
       "      <td>669942.312500</td>\n",
       "    </tr>\n",
       "  </tbody>\n",
       "</table>\n",
       "<p>229 rows × 6 columns</p>\n",
       "</div>"
      ],
      "text/plain": [
       "                     High            Low           Open          Close  \\\n",
       "Date                                                                     \n",
       "2015-01-02   88948.203125   87715.203125   87715.203125   88948.203125   \n",
       "2015-01-05   88507.796875   85513.500000   87715.203125   87010.703125   \n",
       "2015-01-06   87451.000000   85073.203125   85953.898438   86130.000000   \n",
       "2015-01-07   86570.398438   84280.601562   86218.101562   85953.898438   \n",
       "2015-01-08   88948.203125   84985.101562   85425.500000   88948.203125   \n",
       "...                   ...            ...            ...            ...   \n",
       "2015-11-25  749454.000000  717750.000000  722154.000000  737125.000000   \n",
       "2015-11-26  755619.000000  732722.000000  744170.000000  732722.000000   \n",
       "2015-11-27  738006.000000  716870.000000  736244.000000  727438.000000   \n",
       "2015-11-30  722154.000000  684285.000000  720392.000000  699256.000000   \n",
       "2015-12-01  705421.000000  665790.000000  700137.000000  672836.000000   \n",
       "\n",
       "            Volume      Adj Close  \n",
       "Date                               \n",
       "2015-01-02   45869   88565.664062  \n",
       "2015-01-05   50491   86636.500000  \n",
       "2015-01-06   45278   85759.578125  \n",
       "2015-01-07   39787   85584.226562  \n",
       "2015-01-08   40097   88565.664062  \n",
       "...            ...            ...  \n",
       "2015-11-25  211174  733954.812500  \n",
       "2015-11-26  159779  729570.750000  \n",
       "2015-11-27  143288  724309.437500  \n",
       "2015-11-30  287918  696248.687500  \n",
       "2015-12-01  307468  669942.312500  \n",
       "\n",
       "[229 rows x 6 columns]"
      ]
     },
     "execution_count": 5,
     "metadata": {},
     "output_type": "execute_result"
    }
   ],
   "source": [
    "download_stock_data('data/hanmi.data', '128940', 2015, 1, 1, 2015, 11, 30)"
   ]
  },
  {
   "cell_type": "code",
   "execution_count": 6,
   "metadata": {},
   "outputs": [],
   "source": [
    "df_samsung = load_stock_data('data/samsung.data')\n",
    "df_hanmi = load_stock_data('data/hanmi.data')"
   ]
  },
  {
   "cell_type": "code",
   "execution_count": 21,
   "metadata": {},
   "outputs": [
    {
     "data": {
      "text/plain": [
       "DatetimeIndex(['2015-01-02', '2015-01-05', '2015-01-06', '2015-01-07',\n",
       "               '2015-01-08', '2015-01-09', '2015-01-12', '2015-01-13',\n",
       "               '2015-01-14', '2015-01-15',\n",
       "               ...\n",
       "               '2015-11-18', '2015-11-19', '2015-11-20', '2015-11-23',\n",
       "               '2015-11-24', '2015-11-25', '2015-11-26', '2015-11-27',\n",
       "               '2015-11-30', '2015-12-01'],\n",
       "              dtype='datetime64[ns]', name='Date', length=229, freq=None)"
      ]
     },
     "execution_count": 21,
     "metadata": {},
     "output_type": "execute_result"
    }
   ],
   "source": [
    "df_samsung.index"
   ]
  },
  {
   "cell_type": "code",
   "execution_count": 7,
   "metadata": {},
   "outputs": [
    {
     "data": {
      "text/plain": [
       "-128580933.53275786"
      ]
     },
     "execution_count": 7,
     "metadata": {},
     "output_type": "execute_result"
    }
   ],
   "source": [
    "df_samsung['Close'].cov(df_hanmi['Close'])"
   ]
  },
  {
   "cell_type": "code",
   "execution_count": 8,
   "metadata": {},
   "outputs": [
    {
     "data": {
      "text/plain": [
       "-0.35811007434807124"
      ]
     },
     "execution_count": 8,
     "metadata": {},
     "output_type": "execute_result"
    }
   ],
   "source": [
    "df_samsung['Close'].corr(df_hanmi['Close'])"
   ]
  },
  {
   "cell_type": "code",
   "execution_count": 59,
   "metadata": {},
   "outputs": [
    {
     "data": {
      "image/png": "[encoded data removed]",
      "text/plain": [
       "<Figure size 1440x360 with 2 Axes>"
      ]
     },
     "metadata": {
      "needs_background": "light"
     },
     "output_type": "display_data"
    }
   ],
   "source": [
    "fig = plt.figure(figsize=(20, 5))\n",
    "\n",
    "ax1 = fig.add_subplot(111)\n",
    "lns1 = ax1.plot(df_samsung['Close'], label='Samsung')\n",
    "\n",
    "ax2 = ax1.twinx()\n",
    "lns2 = ax2.plot(df_hanmi['Close'], color='orange', label='Hanmi')\n",
    "\n",
    "lns = lns1 + lns2\n",
    "labs = [l.get_label() for l in lns]\n",
    "plt.legend(lns, labs, loc=0)\n",
    "\n",
    "plt.show()"
   ]
  },
  {
   "cell_type": "markdown",
   "metadata": {},
   "source": [
    "# Mean Reversion Model"
   ]
  },
  {
   "cell_type": "markdown",
   "metadata": {},
   "source": [
    "## 1) Augmented Dickey-Fuller"
   ]
  },
  {
   "cell_type": "code",
   "execution_count": 67,
   "metadata": {},
   "outputs": [
    {
     "name": "stdout",
     "output_type": "stream",
     "text": [
      "(-1.114457699220574, 0.7092720393825198, 3, 225, {'1%': -3.4597521044060353, '5%': -2.874472927517147, '10%': -2.5736628197530864}, 3195.396251743775)\n",
      "(-0.33319183918206563, 0.9206700467999618, 0, 228, {'1%': -3.4593607492757554, '5%': -2.8743015807562924, '10%': -2.5735714042782396}, 4862.533086699373)\n"
     ]
    }
   ],
   "source": [
    "print(ts.adfuller(df_samsung['Close']))\n",
    "print(ts.adfuller(df_hanmi['Close']))"
   ]
  },
  {
   "cell_type": "markdown",
   "metadata": {},
   "source": [
    "## 2) Hust Exponent"
   ]
  },
  {
   "cell_type": "code",
   "execution_count": 51,
   "metadata": {},
   "outputs": [],
   "source": [
    "def get_hurst_exponent(df) :\n",
    "    lags = range(2, 100)\n",
    "    ts = np.log(df)\n",
    "    \n",
    "    tau = [np.sqrt(np.std(np.subtract(ts[lag:].reset_index(drop=True), \n",
    "                                      ts[:-lag].reset_index(drop=True)))) for lag in lags]\n",
    "    poly = np.polyfit(np.log(lags), np.log(tau), 1)\n",
    "    \n",
    "    result = poly[0] * 2.0\n",
    "    \n",
    "    return result"
   ]
  },
  {
   "cell_type": "code",
   "execution_count": 54,
   "metadata": {},
   "outputs": [],
   "source": [
    "hurst_samsung = get_hurst_exponent(df_samsung['Close'])\n",
    "hurst_hanmi = get_hurst_exponent(df_hanmi['Close'])"
   ]
  },
  {
   "cell_type": "code",
   "execution_count": 61,
   "metadata": {},
   "outputs": [
    {
     "name": "stdout",
     "output_type": "stream",
     "text": [
      "0.40465533297979767\n",
      "0.5739773764440907\n"
     ]
    }
   ],
   "source": [
    "print(hurst_samsung)\n",
    "print(hurst_hanmi)"
   ]
  },
  {
   "cell_type": "markdown",
   "metadata": {},
   "source": [
    "## 3) Half-life"
   ]
  },
  {
   "cell_type": "code",
   "execution_count": 64,
   "metadata": {},
   "outputs": [],
   "source": [
    "def get_half_life(df) :\n",
    "    price = pd.Series(df)\n",
    "    lagged_price = price.shift(1).fillna(method='bfill')\n",
    "    delta = price - lagged_price\n",
    "    beta = np.polyfit(lagged_price, delta, 1)[0]\n",
    "    half_life = (-1*np.log(2)/beta)\n",
    "    \n",
    "    return half_life"
   ]
  },
  {
   "cell_type": "code",
   "execution_count": 65,
   "metadata": {},
   "outputs": [
    {
     "name": "stdout",
     "output_type": "stream",
     "text": [
      "34.52913946371073\n",
      "253.94676130703212\n"
     ]
    }
   ],
   "source": [
    "print(get_half_life(df_samsung['Close']))\n",
    "print(get_half_life(df_hanmi['Close']))"
   ]
  },
  {
   "cell_type": "markdown",
   "metadata": {},
   "source": [
    "# Pilot Run"
   ]
  },
  {
   "cell_type": "code",
   "execution_count": 22,
   "metadata": {},
   "outputs": [],
   "source": [
    "from dataset import make_dataset, split_dataset"
   ]
  },
  {
   "cell_type": "code",
   "execution_count": 90,
   "metadata": {},
   "outputs": [],
   "source": [
    "from sklearn.ensemble import RandomForestClassifier"
   ]
  },
  {
   "cell_type": "code",
   "execution_count": 116,
   "metadata": {},
   "outputs": [
    {
     "name": "stderr",
     "output_type": "stream",
     "text": [
      "/usr/local/lib/python3.6/dist-packages/sklearn/ensemble/forest.py:245: FutureWarning: The default value of n_estimators will change from 10 in version 0.20 to 100 in 0.22.\n",
      "  \"10 in version 0.20 to 100 in 0.22.\", FutureWarning)\n"
     ]
    },
    {
     "data": {
      "text/plain": [
       "(0.5636363636363636, 0.5636363636363636)"
      ]
     },
     "execution_count": 116,
     "metadata": {},
     "output_type": "execute_result"
    }
   ],
   "source": [
    "company = 'data/samsung'\n",
    "time_lags = 5\n",
    "\n",
    "df_company = load_stock_data('%s.data'%(company))\n",
    "\n",
    "df_dataset = make_dataset(df_company, time_lags)\n",
    "features = ['Close_Lag%s'%(time_lags), \n",
    "           'Volumne_Lag%s'%(time_lags)]\n",
    "x_train, x_test, y_train, y_test = split_dataset(df_dataset, features, 'Close_Direction', 0.75)\n",
    "\n",
    "evaluate(RandomForestClassifier(), x_train, y_train, x_test, y_test)"
   ]
  },
  {
   "cell_type": "code",
   "execution_count": 112,
   "metadata": {},
   "outputs": [
    {
     "data": {
      "text/html": [
       "<div>\n",
       "<style scoped>\n",
       "    .dataframe tbody tr th:only-of-type {\n",
       "        vertical-align: middle;\n",
       "    }\n",
       "\n",
       "    .dataframe tbody tr th {\n",
       "        vertical-align: top;\n",
       "    }\n",
       "\n",
       "    .dataframe thead th {\n",
       "        text-align: right;\n",
       "    }\n",
       "</style>\n",
       "<table border=\"1\" class=\"dataframe\">\n",
       "  <thead>\n",
       "    <tr style=\"text-align: right;\">\n",
       "      <th></th>\n",
       "      <th>Close</th>\n",
       "      <th>Volumne</th>\n",
       "      <th>Close_Lag5</th>\n",
       "      <th>Close_Lag5_Change</th>\n",
       "      <th>Volumne_Lag5</th>\n",
       "      <th>Volumne_Lag5_Change</th>\n",
       "      <th>Close_Direction</th>\n",
       "      <th>Volume_Direction</th>\n",
       "    </tr>\n",
       "    <tr>\n",
       "      <th>Date</th>\n",
       "      <th></th>\n",
       "      <th></th>\n",
       "      <th></th>\n",
       "      <th></th>\n",
       "      <th></th>\n",
       "      <th></th>\n",
       "      <th></th>\n",
       "      <th></th>\n",
       "    </tr>\n",
       "  </thead>\n",
       "  <tbody>\n",
       "    <tr>\n",
       "      <td>2015-01-12</td>\n",
       "      <td>26320.0</td>\n",
       "      <td>8325400.0</td>\n",
       "      <td>26660.0</td>\n",
       "      <td>0.225564</td>\n",
       "      <td>10139500.0</td>\n",
       "      <td>15.550516</td>\n",
       "      <td>1.0</td>\n",
       "      <td>1.0</td>\n",
       "    </tr>\n",
       "    <tr>\n",
       "      <td>2015-01-13</td>\n",
       "      <td>26780.0</td>\n",
       "      <td>12293400.0</td>\n",
       "      <td>25900.0</td>\n",
       "      <td>-2.850713</td>\n",
       "      <td>15235500.0</td>\n",
       "      <td>50.258889</td>\n",
       "      <td>-1.0</td>\n",
       "      <td>1.0</td>\n",
       "    </tr>\n",
       "    <tr>\n",
       "      <td>2015-01-14</td>\n",
       "      <td>26900.0</td>\n",
       "      <td>14332250.0</td>\n",
       "      <td>26140.0</td>\n",
       "      <td>0.926641</td>\n",
       "      <td>14322750.0</td>\n",
       "      <td>-5.990942</td>\n",
       "      <td>1.0</td>\n",
       "      <td>-1.0</td>\n",
       "    </tr>\n",
       "    <tr>\n",
       "      <td>2015-01-15</td>\n",
       "      <td>26680.0</td>\n",
       "      <td>14103900.0</td>\n",
       "      <td>26280.0</td>\n",
       "      <td>0.535578</td>\n",
       "      <td>14477600.0</td>\n",
       "      <td>1.081147</td>\n",
       "      <td>1.0</td>\n",
       "      <td>1.0</td>\n",
       "    </tr>\n",
       "    <tr>\n",
       "      <td>2015-01-16</td>\n",
       "      <td>26320.0</td>\n",
       "      <td>13568500.0</td>\n",
       "      <td>26280.0</td>\n",
       "      <td>0.000000</td>\n",
       "      <td>9312400.0</td>\n",
       "      <td>-35.677184</td>\n",
       "      <td>0.0</td>\n",
       "      <td>-1.0</td>\n",
       "    </tr>\n",
       "    <tr>\n",
       "      <td>2015-01-19</td>\n",
       "      <td>26860.0</td>\n",
       "      <td>6672950.0</td>\n",
       "      <td>26320.0</td>\n",
       "      <td>0.152207</td>\n",
       "      <td>8325400.0</td>\n",
       "      <td>-10.598772</td>\n",
       "      <td>1.0</td>\n",
       "      <td>-1.0</td>\n",
       "    </tr>\n",
       "  </tbody>\n",
       "</table>\n",
       "</div>"
      ],
      "text/plain": [
       "              Close     Volumne  Close_Lag5  Close_Lag5_Change  Volumne_Lag5  \\\n",
       "Date                                                                           \n",
       "2015-01-12  26320.0   8325400.0     26660.0           0.225564    10139500.0   \n",
       "2015-01-13  26780.0  12293400.0     25900.0          -2.850713    15235500.0   \n",
       "2015-01-14  26900.0  14332250.0     26140.0           0.926641    14322750.0   \n",
       "2015-01-15  26680.0  14103900.0     26280.0           0.535578    14477600.0   \n",
       "2015-01-16  26320.0  13568500.0     26280.0           0.000000     9312400.0   \n",
       "2015-01-19  26860.0   6672950.0     26320.0           0.152207     8325400.0   \n",
       "\n",
       "            Volumne_Lag5_Change  Close_Direction  Volume_Direction  \n",
       "Date                                                                \n",
       "2015-01-12            15.550516              1.0               1.0  \n",
       "2015-01-13            50.258889             -1.0               1.0  \n",
       "2015-01-14            -5.990942              1.0              -1.0  \n",
       "2015-01-15             1.081147              1.0               1.0  \n",
       "2015-01-16           -35.677184              0.0              -1.0  \n",
       "2015-01-19           -10.598772              1.0              -1.0  "
      ]
     },
     "execution_count": 112,
     "metadata": {},
     "output_type": "execute_result"
    }
   ],
   "source": [
    "df_dataset.iloc[0:6]"
   ]
  },
  {
   "cell_type": "code",
   "execution_count": 113,
   "metadata": {},
   "outputs": [
    {
     "data": {
      "text/html": [
       "<div>\n",
       "<style scoped>\n",
       "    .dataframe tbody tr th:only-of-type {\n",
       "        vertical-align: middle;\n",
       "    }\n",
       "\n",
       "    .dataframe tbody tr th {\n",
       "        vertical-align: top;\n",
       "    }\n",
       "\n",
       "    .dataframe thead th {\n",
       "        text-align: right;\n",
       "    }\n",
       "</style>\n",
       "<table border=\"1\" class=\"dataframe\">\n",
       "  <thead>\n",
       "    <tr style=\"text-align: right;\">\n",
       "      <th></th>\n",
       "      <th>Close_Lag5</th>\n",
       "      <th>Volumne_Lag5</th>\n",
       "    </tr>\n",
       "    <tr>\n",
       "      <th>Date</th>\n",
       "      <th></th>\n",
       "      <th></th>\n",
       "    </tr>\n",
       "  </thead>\n",
       "  <tbody>\n",
       "    <tr>\n",
       "      <td>2015-01-12</td>\n",
       "      <td>26660.0</td>\n",
       "      <td>10139500.0</td>\n",
       "    </tr>\n",
       "    <tr>\n",
       "      <td>2015-01-13</td>\n",
       "      <td>25900.0</td>\n",
       "      <td>15235500.0</td>\n",
       "    </tr>\n",
       "    <tr>\n",
       "      <td>2015-01-14</td>\n",
       "      <td>26140.0</td>\n",
       "      <td>14322750.0</td>\n",
       "    </tr>\n",
       "    <tr>\n",
       "      <td>2015-01-15</td>\n",
       "      <td>26280.0</td>\n",
       "      <td>14477600.0</td>\n",
       "    </tr>\n",
       "    <tr>\n",
       "      <td>2015-01-16</td>\n",
       "      <td>26280.0</td>\n",
       "      <td>9312400.0</td>\n",
       "    </tr>\n",
       "    <tr>\n",
       "      <td>...</td>\n",
       "      <td>...</td>\n",
       "      <td>...</td>\n",
       "    </tr>\n",
       "    <tr>\n",
       "      <td>2015-09-04</td>\n",
       "      <td>21620.0</td>\n",
       "      <td>23111150.0</td>\n",
       "    </tr>\n",
       "    <tr>\n",
       "      <td>2015-09-07</td>\n",
       "      <td>21780.0</td>\n",
       "      <td>20415450.0</td>\n",
       "    </tr>\n",
       "    <tr>\n",
       "      <td>2015-09-08</td>\n",
       "      <td>21700.0</td>\n",
       "      <td>12018600.0</td>\n",
       "    </tr>\n",
       "    <tr>\n",
       "      <td>2015-09-09</td>\n",
       "      <td>21800.0</td>\n",
       "      <td>15634150.0</td>\n",
       "    </tr>\n",
       "    <tr>\n",
       "      <td>2015-09-10</td>\n",
       "      <td>22440.0</td>\n",
       "      <td>15200350.0</td>\n",
       "    </tr>\n",
       "  </tbody>\n",
       "</table>\n",
       "<p>168 rows × 2 columns</p>\n",
       "</div>"
      ],
      "text/plain": [
       "            Close_Lag5  Volumne_Lag5\n",
       "Date                                \n",
       "2015-01-12     26660.0    10139500.0\n",
       "2015-01-13     25900.0    15235500.0\n",
       "2015-01-14     26140.0    14322750.0\n",
       "2015-01-15     26280.0    14477600.0\n",
       "2015-01-16     26280.0     9312400.0\n",
       "...                ...           ...\n",
       "2015-09-04     21620.0    23111150.0\n",
       "2015-09-07     21780.0    20415450.0\n",
       "2015-09-08     21700.0    12018600.0\n",
       "2015-09-09     21800.0    15634150.0\n",
       "2015-09-10     22440.0    15200350.0\n",
       "\n",
       "[168 rows x 2 columns]"
      ]
     },
     "execution_count": 113,
     "metadata": {},
     "output_type": "execute_result"
    }
   ],
   "source": [
    "x_train"
   ]
  },
  {
   "cell_type": "code",
   "execution_count": 114,
   "metadata": {},
   "outputs": [
    {
     "data": {
      "text/plain": [
       "Date\n",
       "2015-01-12    1.0\n",
       "2015-01-13   -1.0\n",
       "2015-01-14    1.0\n",
       "2015-01-15    1.0\n",
       "2015-01-16    0.0\n",
       "             ... \n",
       "2015-09-04    1.0\n",
       "2015-09-07    1.0\n",
       "2015-09-08   -1.0\n",
       "2015-09-09    1.0\n",
       "2015-09-10    1.0\n",
       "Name: Close_Direction, Length: 168, dtype: float64"
      ]
     },
     "execution_count": 114,
     "metadata": {},
     "output_type": "execute_result"
    }
   ],
   "source": [
    "y_train"
   ]
  },
  {
   "cell_type": "code",
   "execution_count": 100,
   "metadata": {},
   "outputs": [],
   "source": [
    "from sklearn.metrics import accuracy_score\n",
    "\n",
    "def evaluate(model, x_train, y_train, x_test, y_test) :\n",
    "    model.fit(x_train, y_train)\n",
    "    pred = model.predict(x_test)\n",
    "    score = model.score(x_test, y_test)\n",
    "    \n",
    "    hit_count = accuracy_score(pred, y_test, normalize=False)\n",
    "    hit_ratio = hit_count / pred.shape[0]\n",
    "    \n",
    "    return hit_ratio, score"
   ]
  },
  {
   "cell_type": "code",
   "execution_count": null,
   "metadata": {},
   "outputs": [],
   "source": []
  }
 ],
 "metadata": {
  "kernelspec": {
   "display_name": "Python 3",
   "language": "python",
   "name": "python3"
  },
  "language_info": {
   "codemirror_mode": {
    "name": "ipython",
    "version": 3
   },
   "file_extension": ".py",
   "mimetype": "text/x-python",
   "name": "python",
   "nbconvert_exporter": "python",
   "pygments_lexer": "ipython3",
   "version": "3.6.8"
  }
 },
 "nbformat": 4,
 "nbformat_minor": 4
}
