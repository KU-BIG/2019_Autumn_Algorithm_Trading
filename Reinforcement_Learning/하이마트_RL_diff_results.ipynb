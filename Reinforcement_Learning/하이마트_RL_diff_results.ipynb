{
  "nbformat": 4,
  "nbformat_minor": 0,
  "metadata": {
    "colab": {
      "name": "하이마트_RL_diff_results.ipynb",
      "provenance": [],
      "collapsed_sections": []
    },
    "kernelspec": {
      "name": "python3",
      "display_name": "Python 3"
    },
    "accelerator": "GPU"
  },
  "cells": [
    {
      "cell_type": "code",
      "metadata": {
        "id": "dA2jIWmBNx9d",
        "colab_type": "code",
        "colab": {}
      },
      "source": [
        "import os\n",
        "import sys\n",
        "import warnings\n",
        "import numpy\n",
        "\n",
        "def warn(*args, **kwargs):\n",
        "    pass\n",
        "\n",
        "warnings.warn = warn\n",
        "warnings.simplefilter(action='ignore', category=FutureWarning)\n",
        "numpy.seterr(divide = 'ignore') \n",
        "\n",
        "sys.path.append(os.path.dirname(os.path.abspath('')))"
      ],
      "execution_count": 0,
      "outputs": []
    },
    {
      "cell_type": "code",
      "metadata": {
        "id": "pn8OMR1tN4x2",
        "colab_type": "code",
        "outputId": "f151139b-51f5-4d10-8704-9fd8e5d380f3",
        "colab": {
          "base_uri": "https://localhost:8080/",
          "height": 388
        }
      },
      "source": [
        "pip install git+https://github.com/notadamking/tensortrade.git"
      ],
      "execution_count": 2,
      "outputs": [
        {
          "output_type": "stream",
          "text": [
            "Collecting git+https://github.com/notadamking/tensortrade.git\n",
            "  Cloning https://github.com/notadamking/tensortrade.git to /tmp/pip-req-build-iej0g4iu\n",
            "  Running command git clone -q https://github.com/notadamking/tensortrade.git /tmp/pip-req-build-iej0g4iu\n",
            "Requirement already satisfied (use --upgrade to upgrade): tensortrade==0.1.0rc1 from git+https://github.com/notadamking/tensortrade.git in /usr/local/lib/python3.6/dist-packages\n",
            "Requirement already satisfied: numpy==1.16.4 in /usr/local/lib/python3.6/dist-packages (from tensortrade==0.1.0rc1) (1.16.4)\n",
            "Requirement already satisfied: pandas==0.25.0 in /usr/local/lib/python3.6/dist-packages (from tensortrade==0.1.0rc1) (0.25.0)\n",
            "Requirement already satisfied: gym==0.14.0 in /usr/local/lib/python3.6/dist-packages (from tensortrade==0.1.0rc1) (0.14.0)\n",
            "Requirement already satisfied: pyyaml==5.1.2 in /usr/local/lib/python3.6/dist-packages (from tensortrade==0.1.0rc1) (5.1.2)\n",
            "Requirement already satisfied: pytz>=2017.2 in /usr/local/lib/python3.6/dist-packages (from pandas==0.25.0->tensortrade==0.1.0rc1) (2018.9)\n",
            "Requirement already satisfied: python-dateutil>=2.6.1 in /usr/local/lib/python3.6/dist-packages (from pandas==0.25.0->tensortrade==0.1.0rc1) (2.6.1)\n",
            "Requirement already satisfied: scipy in /usr/local/lib/python3.6/dist-packages (from gym==0.14.0->tensortrade==0.1.0rc1) (1.3.2)\n",
            "Requirement already satisfied: cloudpickle~=1.2.0 in /usr/local/lib/python3.6/dist-packages (from gym==0.14.0->tensortrade==0.1.0rc1) (1.2.2)\n",
            "Requirement already satisfied: six in /usr/local/lib/python3.6/dist-packages (from gym==0.14.0->tensortrade==0.1.0rc1) (1.12.0)\n",
            "Requirement already satisfied: pyglet<=1.3.2,>=1.2.0 in /usr/local/lib/python3.6/dist-packages (from gym==0.14.0->tensortrade==0.1.0rc1) (1.3.2)\n",
            "Requirement already satisfied: future in /usr/local/lib/python3.6/dist-packages (from pyglet<=1.3.2,>=1.2.0->gym==0.14.0->tensortrade==0.1.0rc1) (0.16.0)\n",
            "Building wheels for collected packages: tensortrade\n",
            "  Building wheel for tensortrade (setup.py) ... \u001b[?25l\u001b[?25hdone\n",
            "  Created wheel for tensortrade: filename=tensortrade-0.1.0rc1-cp36-none-any.whl size=65872 sha256=9fff7c5082e08247f2322919a21f77dfe92bbb1f14cfc4ad2fe09017c972050d\n",
            "  Stored in directory: /tmp/pip-ephem-wheel-cache-4s86vxkj/wheels/e6/47/d1/28241d46a9a2df2f3a6cf4f882a1a66337cade30c68579f6f1\n",
            "Successfully built tensortrade\n"
          ],
          "name": "stdout"
        }
      ]
    },
    {
      "cell_type": "code",
      "metadata": {
        "id": "w1IyezxSN7tI",
        "colab_type": "code",
        "outputId": "0be20137-fc45-48cd-aedd-d35c91062ee5",
        "colab": {
          "base_uri": "https://localhost:8080/",
          "height": 1000
        }
      },
      "source": [
        "pip install git+https://github.com/notadamking/tensortrade.git#egg=tensortrade[tf,tensorforce,baselines,ccxt,ta,fbm] -U"
      ],
      "execution_count": 3,
      "outputs": [
        {
          "output_type": "stream",
          "text": [
            "Collecting tensortrade[baselines,ccxt,fbm,ta,tensorforce,tf]\n",
            "  Cloning https://github.com/notadamking/tensortrade.git to /tmp/pip-install-ig53g3gy/tensortrade\n",
            "  Running command git clone -q https://github.com/notadamking/tensortrade.git /tmp/pip-install-ig53g3gy/tensortrade\n",
            "Requirement already satisfied, skipping upgrade: numpy==1.16.4 in /usr/local/lib/python3.6/dist-packages (from tensortrade[baselines,ccxt,fbm,ta,tensorforce,tf]) (1.16.4)\n",
            "Requirement already satisfied, skipping upgrade: pandas==0.25.0 in /usr/local/lib/python3.6/dist-packages (from tensortrade[baselines,ccxt,fbm,ta,tensorforce,tf]) (0.25.0)\n",
            "Requirement already satisfied, skipping upgrade: gym==0.14.0 in /usr/local/lib/python3.6/dist-packages (from tensortrade[baselines,ccxt,fbm,ta,tensorforce,tf]) (0.14.0)\n",
            "Requirement already satisfied, skipping upgrade: pyyaml==5.1.2 in /usr/local/lib/python3.6/dist-packages (from tensortrade[baselines,ccxt,fbm,ta,tensorforce,tf]) (5.1.2)\n",
            "Collecting stable-baselines==2.8.0\n",
            "\u001b[?25l  Downloading https://files.pythonhosted.org/packages/da/75/6f92ac720de62be8c16ec652d22c9296a90d857cd636d043de16de8128ab/stable_baselines-2.8.0-py3-none-any.whl (222kB)\n",
            "\u001b[K     |████████████████████████████████| 225kB 9.5MB/s \n",
            "\u001b[?25hRequirement already satisfied, skipping upgrade: mpi4py in /usr/local/lib/python3.6/dist-packages (from tensortrade[baselines,ccxt,fbm,ta,tensorforce,tf]) (3.0.3)\n",
            "Collecting ccxt==1.18.1220\n",
            "\u001b[?25l  Downloading https://files.pythonhosted.org/packages/a6/9e/788c7a99d83fc037224b3d6decf08840d516359f7019b34bf54b475829a1/ccxt-1.18.1220-py2.py3-none-any.whl (1.4MB)\n",
            "\u001b[K     |████████████████████████████████| 1.4MB 65.7MB/s \n",
            "\u001b[?25hCollecting stochastic==0.4.0\n",
            "\u001b[?25l  Downloading https://files.pythonhosted.org/packages/62/fb/1bdf5bef80bb31369306290c308371a64aebf825029520602570135ea7f1/stochastic-0.4.0-py2.py3-none-any.whl (43kB)\n",
            "\u001b[K     |████████████████████████████████| 51kB 6.8MB/s \n",
            "\u001b[?25hCollecting ta==0.4.7\n",
            "  Downloading https://files.pythonhosted.org/packages/49/84/331c267d6594e10d0ed4e1ffbfb0b7fd9e94280f5e824855d7a40b8e4751/ta-0.4.7.tar.gz\n",
            "Collecting tensorforce==0.5.2\n",
            "\u001b[?25l  Downloading https://files.pythonhosted.org/packages/d7/7b/cebafd140baec0f452543d01494beaae152d90d988545188798a031bde41/Tensorforce-0.5.2-py3-none-any.whl (308kB)\n",
            "\u001b[K     |████████████████████████████████| 317kB 44.1MB/s \n",
            "\u001b[?25hCollecting tensorflow==1.13.1\n",
            "\u001b[?25l  Downloading https://files.pythonhosted.org/packages/77/63/a9fa76de8dffe7455304c4ed635be4aa9c0bacef6e0633d87d5f54530c5c/tensorflow-1.13.1-cp36-cp36m-manylinux1_x86_64.whl (92.5MB)\n",
            "\u001b[K     |████████████████████████████████| 92.5MB 103kB/s \n",
            "\u001b[?25hRequirement already satisfied, skipping upgrade: pytz>=2017.2 in /usr/local/lib/python3.6/dist-packages (from pandas==0.25.0->tensortrade[baselines,ccxt,fbm,ta,tensorforce,tf]) (2018.9)\n",
            "Requirement already satisfied, skipping upgrade: python-dateutil>=2.6.1 in /usr/local/lib/python3.6/dist-packages (from pandas==0.25.0->tensortrade[baselines,ccxt,fbm,ta,tensorforce,tf]) (2.6.1)\n",
            "Requirement already satisfied, skipping upgrade: pyglet<=1.3.2,>=1.2.0 in /usr/local/lib/python3.6/dist-packages (from gym==0.14.0->tensortrade[baselines,ccxt,fbm,ta,tensorforce,tf]) (1.3.2)\n",
            "Requirement already satisfied, skipping upgrade: scipy in /usr/local/lib/python3.6/dist-packages (from gym==0.14.0->tensortrade[baselines,ccxt,fbm,ta,tensorforce,tf]) (1.3.2)\n",
            "Requirement already satisfied, skipping upgrade: cloudpickle~=1.2.0 in /usr/local/lib/python3.6/dist-packages (from gym==0.14.0->tensortrade[baselines,ccxt,fbm,ta,tensorforce,tf]) (1.2.2)\n",
            "Requirement already satisfied, skipping upgrade: six in /usr/local/lib/python3.6/dist-packages (from gym==0.14.0->tensortrade[baselines,ccxt,fbm,ta,tensorforce,tf]) (1.12.0)\n",
            "Requirement already satisfied, skipping upgrade: matplotlib in /usr/local/lib/python3.6/dist-packages (from stable-baselines==2.8.0->tensortrade[baselines,ccxt,fbm,ta,tensorforce,tf]) (3.1.1)\n",
            "Requirement already satisfied, skipping upgrade: joblib in /usr/local/lib/python3.6/dist-packages (from stable-baselines==2.8.0->tensortrade[baselines,ccxt,fbm,ta,tensorforce,tf]) (0.14.0)\n",
            "Requirement already satisfied, skipping upgrade: opencv-python in /usr/local/lib/python3.6/dist-packages (from stable-baselines==2.8.0->tensortrade[baselines,ccxt,fbm,ta,tensorforce,tf]) (3.4.7.28)\n",
            "Requirement already satisfied, skipping upgrade: requests>=2.18.4 in /usr/local/lib/python3.6/dist-packages (from ccxt==1.18.1220->tensortrade[baselines,ccxt,fbm,ta,tensorforce,tf]) (2.21.0)\n",
            "Requirement already satisfied, skipping upgrade: certifi>=2018.1.18 in /usr/local/lib/python3.6/dist-packages (from ccxt==1.18.1220->tensortrade[baselines,ccxt,fbm,ta,tensorforce,tf]) (2019.9.11)\n",
            "Requirement already satisfied, skipping upgrade: setuptools>=38.5.1 in /usr/local/lib/python3.6/dist-packages (from ccxt==1.18.1220->tensortrade[baselines,ccxt,fbm,ta,tensorforce,tf]) (41.6.0)\n",
            "Collecting cryptography>=2.6.1\n",
            "\u001b[?25l  Downloading https://files.pythonhosted.org/packages/ca/9a/7cece52c46546e214e10811b36b2da52ce1ea7fa203203a629b8dfadad53/cryptography-2.8-cp34-abi3-manylinux2010_x86_64.whl (2.3MB)\n",
            "\u001b[K     |████████████████████████████████| 2.3MB 40.7MB/s \n",
            "\u001b[?25hCollecting aiohttp>=3.0.1; python_version >= \"3.5.2\"\n",
            "\u001b[?25l  Downloading https://files.pythonhosted.org/packages/7c/39/7eb5f98d24904e0f6d3edb505d4aa60e3ef83c0a58d6fe18244a51757247/aiohttp-3.6.2-cp36-cp36m-manylinux1_x86_64.whl (1.2MB)\n",
            "\u001b[K     |████████████████████████████████| 1.2MB 50.5MB/s \n",
            "\u001b[?25hCollecting aiodns==1.1.1; python_version >= \"3.5.2\"\n",
            "  Downloading https://files.pythonhosted.org/packages/bd/f5/b69cb930fd5ab0569396659afe3f3c0d37d4098e5d0ba6afdf6fd9388cb0/aiodns-1.1.1-py2.py3-none-any.whl\n",
            "Collecting yarl==1.1.0; python_version >= \"3.5.2\"\n",
            "\u001b[?25l  Downloading https://files.pythonhosted.org/packages/9a/fe/1fc0d9e277f1ff0d29ac44742f769c55f12cc7e66a89ab340f5321937179/yarl-1.1.0-cp36-cp36m-manylinux1_x86_64.whl (255kB)\n",
            "\u001b[K     |████████████████████████████████| 256kB 56.8MB/s \n",
            "\u001b[?25hRequirement already satisfied, skipping upgrade: scikit-learn in /usr/local/lib/python3.6/dist-packages (from ta==0.4.7->tensortrade[baselines,ccxt,fbm,ta,tensorforce,tf]) (0.21.3)\n",
            "Requirement already satisfied, skipping upgrade: pytest in /usr/local/lib/python3.6/dist-packages (from tensorforce==0.5.2->tensortrade[baselines,ccxt,fbm,ta,tensorforce,tf]) (3.6.4)\n",
            "Requirement already satisfied, skipping upgrade: tqdm in /usr/local/lib/python3.6/dist-packages (from tensorforce==0.5.2->tensortrade[baselines,ccxt,fbm,ta,tensorforce,tf]) (4.28.1)\n",
            "Requirement already satisfied, skipping upgrade: absl-py>=0.1.6 in /usr/local/lib/python3.6/dist-packages (from tensorflow==1.13.1->tensortrade[baselines,ccxt,fbm,ta,tensorforce,tf]) (0.8.1)\n",
            "Collecting tensorboard<1.14.0,>=1.13.0\n",
            "\u001b[?25l  Downloading https://files.pythonhosted.org/packages/0f/39/bdd75b08a6fba41f098b6cb091b9e8c7a80e1b4d679a581a0ccd17b10373/tensorboard-1.13.1-py3-none-any.whl (3.2MB)\n",
            "\u001b[K     |████████████████████████████████| 3.2MB 47.1MB/s \n",
            "\u001b[?25hRequirement already satisfied, skipping upgrade: wheel>=0.26 in /usr/local/lib/python3.6/dist-packages (from tensorflow==1.13.1->tensortrade[baselines,ccxt,fbm,ta,tensorforce,tf]) (0.33.6)\n",
            "Requirement already satisfied, skipping upgrade: keras-preprocessing>=1.0.5 in /usr/local/lib/python3.6/dist-packages (from tensorflow==1.13.1->tensortrade[baselines,ccxt,fbm,ta,tensorforce,tf]) (1.1.0)\n",
            "Requirement already satisfied, skipping upgrade: grpcio>=1.8.6 in /usr/local/lib/python3.6/dist-packages (from tensorflow==1.13.1->tensortrade[baselines,ccxt,fbm,ta,tensorforce,tf]) (1.15.0)\n",
            "Requirement already satisfied, skipping upgrade: astor>=0.6.0 in /usr/local/lib/python3.6/dist-packages (from tensorflow==1.13.1->tensortrade[baselines,ccxt,fbm,ta,tensorforce,tf]) (0.8.0)\n",
            "Requirement already satisfied, skipping upgrade: keras-applications>=1.0.6 in /usr/local/lib/python3.6/dist-packages (from tensorflow==1.13.1->tensortrade[baselines,ccxt,fbm,ta,tensorforce,tf]) (1.0.8)\n",
            "Requirement already satisfied, skipping upgrade: termcolor>=1.1.0 in /usr/local/lib/python3.6/dist-packages (from tensorflow==1.13.1->tensortrade[baselines,ccxt,fbm,ta,tensorforce,tf]) (1.1.0)\n",
            "Requirement already satisfied, skipping upgrade: protobuf>=3.6.1 in /usr/local/lib/python3.6/dist-packages (from tensorflow==1.13.1->tensortrade[baselines,ccxt,fbm,ta,tensorforce,tf]) (3.10.0)\n",
            "Collecting tensorflow-estimator<1.14.0rc0,>=1.13.0\n",
            "\u001b[?25l  Downloading https://files.pythonhosted.org/packages/bb/48/13f49fc3fa0fdf916aa1419013bb8f2ad09674c275b4046d5ee669a46873/tensorflow_estimator-1.13.0-py2.py3-none-any.whl (367kB)\n",
            "\u001b[K     |████████████████████████████████| 368kB 54.9MB/s \n",
            "\u001b[?25hRequirement already satisfied, skipping upgrade: gast>=0.2.0 in /usr/local/lib/python3.6/dist-packages (from tensorflow==1.13.1->tensortrade[baselines,ccxt,fbm,ta,tensorforce,tf]) (0.2.2)\n",
            "Requirement already satisfied, skipping upgrade: future in /usr/local/lib/python3.6/dist-packages (from pyglet<=1.3.2,>=1.2.0->gym==0.14.0->tensortrade[baselines,ccxt,fbm,ta,tensorforce,tf]) (0.16.0)\n",
            "Requirement already satisfied, skipping upgrade: kiwisolver>=1.0.1 in /usr/local/lib/python3.6/dist-packages (from matplotlib->stable-baselines==2.8.0->tensortrade[baselines,ccxt,fbm,ta,tensorforce,tf]) (1.1.0)\n",
            "Requirement already satisfied, skipping upgrade: pyparsing!=2.0.4,!=2.1.2,!=2.1.6,>=2.0.1 in /usr/local/lib/python3.6/dist-packages (from matplotlib->stable-baselines==2.8.0->tensortrade[baselines,ccxt,fbm,ta,tensorforce,tf]) (2.4.5)\n",
            "Requirement already satisfied, skipping upgrade: cycler>=0.10 in /usr/local/lib/python3.6/dist-packages (from matplotlib->stable-baselines==2.8.0->tensortrade[baselines,ccxt,fbm,ta,tensorforce,tf]) (0.10.0)\n",
            "Requirement already satisfied, skipping upgrade: idna<2.9,>=2.5 in /usr/local/lib/python3.6/dist-packages (from requests>=2.18.4->ccxt==1.18.1220->tensortrade[baselines,ccxt,fbm,ta,tensorforce,tf]) (2.8)\n",
            "Requirement already satisfied, skipping upgrade: urllib3<1.25,>=1.21.1 in /usr/local/lib/python3.6/dist-packages (from requests>=2.18.4->ccxt==1.18.1220->tensortrade[baselines,ccxt,fbm,ta,tensorforce,tf]) (1.24.3)\n",
            "Requirement already satisfied, skipping upgrade: chardet<3.1.0,>=3.0.2 in /usr/local/lib/python3.6/dist-packages (from requests>=2.18.4->ccxt==1.18.1220->tensortrade[baselines,ccxt,fbm,ta,tensorforce,tf]) (3.0.4)\n",
            "Requirement already satisfied, skipping upgrade: cffi!=1.11.3,>=1.8 in /usr/local/lib/python3.6/dist-packages (from cryptography>=2.6.1->ccxt==1.18.1220->tensortrade[baselines,ccxt,fbm,ta,tensorforce,tf]) (1.13.2)\n",
            "Requirement already satisfied, skipping upgrade: typing-extensions>=3.6.5; python_version < \"3.7\" in /usr/local/lib/python3.6/dist-packages (from aiohttp>=3.0.1; python_version >= \"3.5.2\"->ccxt==1.18.1220->tensortrade[baselines,ccxt,fbm,ta,tensorforce,tf]) (3.6.6)\n",
            "Collecting multidict<5.0,>=4.5\n",
            "\u001b[?25l  Downloading https://files.pythonhosted.org/packages/7d/cf/73e67511d9cd60b1d11eab9361c949a209bbb9c742f2ccf59e5e8cd1d686/multidict-4.6.1-cp36-cp36m-manylinux1_x86_64.whl (348kB)\n",
            "\u001b[K     |████████████████████████████████| 358kB 51.9MB/s \n",
            "\u001b[?25hCollecting idna-ssl>=1.0; python_version < \"3.7\"\n",
            "  Downloading https://files.pythonhosted.org/packages/46/03/07c4894aae38b0de52b52586b24bf189bb83e4ddabfe2e2c8f2419eec6f4/idna-ssl-1.1.0.tar.gz\n",
            "Requirement already satisfied, skipping upgrade: attrs>=17.3.0 in /usr/local/lib/python3.6/dist-packages (from aiohttp>=3.0.1; python_version >= \"3.5.2\"->ccxt==1.18.1220->tensortrade[baselines,ccxt,fbm,ta,tensorforce,tf]) (19.3.0)\n",
            "Collecting async-timeout<4.0,>=3.0\n",
            "  Downloading https://files.pythonhosted.org/packages/e1/1e/5a4441be21b0726c4464f3f23c8b19628372f606755a9d2e46c187e65ec4/async_timeout-3.0.1-py3-none-any.whl\n",
            "Collecting pycares>=1.0.0\n",
            "\u001b[?25l  Downloading https://files.pythonhosted.org/packages/88/58/0cdc4e9aeaa19d91cf33cdc7590d5a08b2c78de73fde893580b4fa63b57b/pycares-3.0.0-cp36-cp36m-manylinux1_x86_64.whl (204kB)\n",
            "\u001b[K     |████████████████████████████████| 204kB 29.9MB/s \n",
            "\u001b[?25hRequirement already satisfied, skipping upgrade: more-itertools>=4.0.0 in /usr/local/lib/python3.6/dist-packages (from pytest->tensorforce==0.5.2->tensortrade[baselines,ccxt,fbm,ta,tensorforce,tf]) (7.2.0)\n",
            "Requirement already satisfied, skipping upgrade: atomicwrites>=1.0 in /usr/local/lib/python3.6/dist-packages (from pytest->tensorforce==0.5.2->tensortrade[baselines,ccxt,fbm,ta,tensorforce,tf]) (1.3.0)\n",
            "Requirement already satisfied, skipping upgrade: pluggy<0.8,>=0.5 in /usr/local/lib/python3.6/dist-packages (from pytest->tensorforce==0.5.2->tensortrade[baselines,ccxt,fbm,ta,tensorforce,tf]) (0.7.1)\n",
            "Requirement already satisfied, skipping upgrade: py>=1.5.0 in /usr/local/lib/python3.6/dist-packages (from pytest->tensorforce==0.5.2->tensortrade[baselines,ccxt,fbm,ta,tensorforce,tf]) (1.8.0)\n",
            "Requirement already satisfied, skipping upgrade: markdown>=2.6.8 in /usr/local/lib/python3.6/dist-packages (from tensorboard<1.14.0,>=1.13.0->tensorflow==1.13.1->tensortrade[baselines,ccxt,fbm,ta,tensorforce,tf]) (3.1.1)\n",
            "Requirement already satisfied, skipping upgrade: werkzeug>=0.11.15 in /usr/local/lib/python3.6/dist-packages (from tensorboard<1.14.0,>=1.13.0->tensorflow==1.13.1->tensortrade[baselines,ccxt,fbm,ta,tensorforce,tf]) (0.16.0)\n",
            "Requirement already satisfied, skipping upgrade: h5py in /usr/local/lib/python3.6/dist-packages (from keras-applications>=1.0.6->tensorflow==1.13.1->tensortrade[baselines,ccxt,fbm,ta,tensorforce,tf]) (2.8.0)\n",
            "Collecting mock>=2.0.0\n",
            "  Downloading https://files.pythonhosted.org/packages/05/d2/f94e68be6b17f46d2c353564da56e6fb89ef09faeeff3313a046cb810ca9/mock-3.0.5-py2.py3-none-any.whl\n",
            "Requirement already satisfied, skipping upgrade: pycparser in /usr/local/lib/python3.6/dist-packages (from cffi!=1.11.3,>=1.8->cryptography>=2.6.1->ccxt==1.18.1220->tensortrade[baselines,ccxt,fbm,ta,tensorforce,tf]) (2.19)\n",
            "Building wheels for collected packages: tensortrade, ta, idna-ssl\n",
            "  Building wheel for tensortrade (setup.py) ... \u001b[?25l\u001b[?25hdone\n",
            "  Created wheel for tensortrade: filename=tensortrade-0.1.0rc1-cp36-none-any.whl size=65872 sha256=70ac6da0a535ae545f67a264ccc43d608b7dcc2c44ec4164abe82778d83e68d7\n",
            "  Stored in directory: /tmp/pip-ephem-wheel-cache-h0vh_h4f/wheels/e6/47/d1/28241d46a9a2df2f3a6cf4f882a1a66337cade30c68579f6f1\n",
            "  Building wheel for ta (setup.py) ... \u001b[?25l\u001b[?25hdone\n",
            "  Created wheel for ta: filename=ta-0.4.7-cp36-none-any.whl size=18553 sha256=d71e4a9da2abd4fee3dfded877d7a71b0b081573c6ed1936185560c5a2163f03\n",
            "  Stored in directory: /root/.cache/pip/wheels/fe/58/16/b989347aa65ea8047524fdf38b5e70e2605e58eb8e46396368\n",
            "  Building wheel for idna-ssl (setup.py) ... \u001b[?25l\u001b[?25hdone\n",
            "  Created wheel for idna-ssl: filename=idna_ssl-1.1.0-cp36-none-any.whl size=3163 sha256=19196c94f65b65ae9369c8d90320705c2e6e421eeeb017bfc7243f0e5f1224f1\n",
            "  Stored in directory: /root/.cache/pip/wheels/d3/00/b3/32d613e19e08a739751dd6bf998cfed277728f8b2127ad4eb7\n",
            "Successfully built tensortrade ta idna-ssl\n",
            "Installing collected packages: stable-baselines, cryptography, multidict, idna-ssl, async-timeout, yarl, aiohttp, pycares, aiodns, ccxt, stochastic, ta, tensorforce, tensorboard, mock, tensorflow-estimator, tensorflow, tensortrade\n",
            "  Found existing installation: stable-baselines 2.2.1\n",
            "    Uninstalling stable-baselines-2.2.1:\n",
            "      Successfully uninstalled stable-baselines-2.2.1\n",
            "  Found existing installation: tensorboard 1.15.0\n",
            "    Uninstalling tensorboard-1.15.0:\n",
            "      Successfully uninstalled tensorboard-1.15.0\n",
            "  Found existing installation: tensorflow-estimator 1.15.1\n",
            "    Uninstalling tensorflow-estimator-1.15.1:\n",
            "      Successfully uninstalled tensorflow-estimator-1.15.1\n",
            "  Found existing installation: tensorflow 1.15.0\n",
            "    Uninstalling tensorflow-1.15.0:\n",
            "      Successfully uninstalled tensorflow-1.15.0\n",
            "  Found existing installation: tensortrade 0.1.0rc1\n",
            "    Uninstalling tensortrade-0.1.0rc1:\n",
            "      Successfully uninstalled tensortrade-0.1.0rc1\n",
            "Successfully installed aiodns-1.1.1 aiohttp-3.6.2 async-timeout-3.0.1 ccxt-1.18.1220 cryptography-2.8 idna-ssl-1.1.0 mock-3.0.5 multidict-4.6.1 pycares-3.0.0 stable-baselines-2.8.0 stochastic-0.4.0 ta-0.4.7 tensorboard-1.13.1 tensorflow-1.13.1 tensorflow-estimator-1.13.0 tensorforce-0.5.2 tensortrade-0.1.0rc1 yarl-1.1.0\n"
          ],
          "name": "stdout"
        }
      ]
    },
    {
      "cell_type": "code",
      "metadata": {
        "id": "NQvU1EgRP8Ma",
        "colab_type": "code",
        "colab": {}
      },
      "source": [
        "import pandas as pd\n",
        "url = 'https://raw.githubusercontent.com/KU-BIG/2019_Autumn_Algorithm_Trading/master/data/stock/071840.csv'\n",
        "df = pd.read_csv(url)\n",
        "#df = pd.read_csv(url, usecols = ['High','Low','Open', 'Close','Volume'])\n",
        "\n",
        "df.columns = ['Datetime', 'High', 'Low', 'Open', 'Close','Volume', 'Adj Close']\n"
      ],
      "execution_count": 0,
      "outputs": []
    },
    {
      "cell_type": "code",
      "metadata": {
        "id": "NzlkSusSQOCV",
        "colab_type": "code",
        "outputId": "e286802b-d0ba-424b-88d8-16773b6b7b82",
        "colab": {
          "base_uri": "https://localhost:8080/",
          "height": 199
        }
      },
      "source": [
        "df.head()"
      ],
      "execution_count": 5,
      "outputs": [
        {
          "output_type": "execute_result",
          "data": {
            "text/html": [
              "<div>\n",
              "<style scoped>\n",
              "    .dataframe tbody tr th:only-of-type {\n",
              "        vertical-align: middle;\n",
              "    }\n",
              "\n",
              "    .dataframe tbody tr th {\n",
              "        vertical-align: top;\n",
              "    }\n",
              "\n",
              "    .dataframe thead th {\n",
              "        text-align: right;\n",
              "    }\n",
              "</style>\n",
              "<table border=\"1\" class=\"dataframe\">\n",
              "  <thead>\n",
              "    <tr style=\"text-align: right;\">\n",
              "      <th></th>\n",
              "      <th>Datetime</th>\n",
              "      <th>High</th>\n",
              "      <th>Low</th>\n",
              "      <th>Open</th>\n",
              "      <th>Close</th>\n",
              "      <th>Volume</th>\n",
              "      <th>Adj Close</th>\n",
              "    </tr>\n",
              "  </thead>\n",
              "  <tbody>\n",
              "    <tr>\n",
              "      <th>0</th>\n",
              "      <td>20110629</td>\n",
              "      <td>58700</td>\n",
              "      <td>50300</td>\n",
              "      <td>53100</td>\n",
              "      <td>57000</td>\n",
              "      <td>2292207</td>\n",
              "      <td>NaN</td>\n",
              "    </tr>\n",
              "    <tr>\n",
              "      <th>1</th>\n",
              "      <td>20110630</td>\n",
              "      <td>56600</td>\n",
              "      <td>52200</td>\n",
              "      <td>56000</td>\n",
              "      <td>54800</td>\n",
              "      <td>740039</td>\n",
              "      <td>NaN</td>\n",
              "    </tr>\n",
              "    <tr>\n",
              "      <th>2</th>\n",
              "      <td>20110701</td>\n",
              "      <td>57400</td>\n",
              "      <td>53700</td>\n",
              "      <td>54800</td>\n",
              "      <td>57000</td>\n",
              "      <td>484983</td>\n",
              "      <td>NaN</td>\n",
              "    </tr>\n",
              "    <tr>\n",
              "      <th>3</th>\n",
              "      <td>20110704</td>\n",
              "      <td>57700</td>\n",
              "      <td>55800</td>\n",
              "      <td>57000</td>\n",
              "      <td>55800</td>\n",
              "      <td>154045</td>\n",
              "      <td>NaN</td>\n",
              "    </tr>\n",
              "    <tr>\n",
              "      <th>4</th>\n",
              "      <td>20110705</td>\n",
              "      <td>55500</td>\n",
              "      <td>53500</td>\n",
              "      <td>55300</td>\n",
              "      <td>54000</td>\n",
              "      <td>396287</td>\n",
              "      <td>NaN</td>\n",
              "    </tr>\n",
              "  </tbody>\n",
              "</table>\n",
              "</div>"
            ],
            "text/plain": [
              "   Datetime   High    Low   Open  Close   Volume  Adj Close\n",
              "0  20110629  58700  50300  53100  57000  2292207        NaN\n",
              "1  20110630  56600  52200  56000  54800   740039        NaN\n",
              "2  20110701  57400  53700  54800  57000   484983        NaN\n",
              "3  20110704  57700  55800  57000  55800   154045        NaN\n",
              "4  20110705  55500  53500  55300  54000   396287        NaN"
            ]
          },
          "metadata": {
            "tags": []
          },
          "execution_count": 5
        }
      ]
    },
    {
      "cell_type": "code",
      "metadata": {
        "id": "UuMXWbc3S1VP",
        "colab_type": "code",
        "outputId": "62dfbf52-1072-4df0-b2b8-bc0f19b3534a",
        "colab": {
          "base_uri": "https://localhost:8080/",
          "height": 282
        }
      },
      "source": [
        "import matplotlib\n",
        "%matplotlib inline\n",
        "\n",
        "df.High.plot()"
      ],
      "execution_count": 6,
      "outputs": [
        {
          "output_type": "execute_result",
          "data": {
            "text/plain": [
              "<matplotlib.axes._subplots.AxesSubplot at 0x7f0f8c267c88>"
            ]
          },
          "metadata": {
            "tags": []
          },
          "execution_count": 6
        },
        {
          "output_type": "display_data",
          "data": {
            "image/png": "[encoded data removed]",
            "text/plain": [
              "<Figure size 432x288 with 1 Axes>"
            ]
          },
          "metadata": {
            "tags": []
          }
        }
      ]
    },
    {
      "cell_type": "code",
      "metadata": {
        "id": "j7WKl_oZQvjY",
        "colab_type": "code",
        "colab": {}
      },
      "source": [
        "df = df.drop('Adj Close', axis=1)"
      ],
      "execution_count": 0,
      "outputs": []
    },
    {
      "cell_type": "code",
      "metadata": {
        "id": "Hs0ZE5kLQzra",
        "colab_type": "code",
        "outputId": "1170b2cf-3121-434e-c0b3-7680d1603161",
        "colab": {
          "base_uri": "https://localhost:8080/",
          "height": 199
        }
      },
      "source": [
        "df.head()"
      ],
      "execution_count": 8,
      "outputs": [
        {
          "output_type": "execute_result",
          "data": {
            "text/html": [
              "<div>\n",
              "<style scoped>\n",
              "    .dataframe tbody tr th:only-of-type {\n",
              "        vertical-align: middle;\n",
              "    }\n",
              "\n",
              "    .dataframe tbody tr th {\n",
              "        vertical-align: top;\n",
              "    }\n",
              "\n",
              "    .dataframe thead th {\n",
              "        text-align: right;\n",
              "    }\n",
              "</style>\n",
              "<table border=\"1\" class=\"dataframe\">\n",
              "  <thead>\n",
              "    <tr style=\"text-align: right;\">\n",
              "      <th></th>\n",
              "      <th>Datetime</th>\n",
              "      <th>High</th>\n",
              "      <th>Low</th>\n",
              "      <th>Open</th>\n",
              "      <th>Close</th>\n",
              "      <th>Volume</th>\n",
              "    </tr>\n",
              "  </thead>\n",
              "  <tbody>\n",
              "    <tr>\n",
              "      <th>0</th>\n",
              "      <td>20110629</td>\n",
              "      <td>58700</td>\n",
              "      <td>50300</td>\n",
              "      <td>53100</td>\n",
              "      <td>57000</td>\n",
              "      <td>2292207</td>\n",
              "    </tr>\n",
              "    <tr>\n",
              "      <th>1</th>\n",
              "      <td>20110630</td>\n",
              "      <td>56600</td>\n",
              "      <td>52200</td>\n",
              "      <td>56000</td>\n",
              "      <td>54800</td>\n",
              "      <td>740039</td>\n",
              "    </tr>\n",
              "    <tr>\n",
              "      <th>2</th>\n",
              "      <td>20110701</td>\n",
              "      <td>57400</td>\n",
              "      <td>53700</td>\n",
              "      <td>54800</td>\n",
              "      <td>57000</td>\n",
              "      <td>484983</td>\n",
              "    </tr>\n",
              "    <tr>\n",
              "      <th>3</th>\n",
              "      <td>20110704</td>\n",
              "      <td>57700</td>\n",
              "      <td>55800</td>\n",
              "      <td>57000</td>\n",
              "      <td>55800</td>\n",
              "      <td>154045</td>\n",
              "    </tr>\n",
              "    <tr>\n",
              "      <th>4</th>\n",
              "      <td>20110705</td>\n",
              "      <td>55500</td>\n",
              "      <td>53500</td>\n",
              "      <td>55300</td>\n",
              "      <td>54000</td>\n",
              "      <td>396287</td>\n",
              "    </tr>\n",
              "  </tbody>\n",
              "</table>\n",
              "</div>"
            ],
            "text/plain": [
              "   Datetime   High    Low   Open  Close   Volume\n",
              "0  20110629  58700  50300  53100  57000  2292207\n",
              "1  20110630  56600  52200  56000  54800   740039\n",
              "2  20110701  57400  53700  54800  57000   484983\n",
              "3  20110704  57700  55800  57000  55800   154045\n",
              "4  20110705  55500  53500  55300  54000   396287"
            ]
          },
          "metadata": {
            "tags": []
          },
          "execution_count": 8
        }
      ]
    },
    {
      "cell_type": "code",
      "metadata": {
        "id": "LYImSOOAOgi_",
        "colab_type": "code",
        "outputId": "a2a5d204-2e4f-41bf-e8df-1f9f005590b7",
        "colab": {
          "base_uri": "https://localhost:8080/",
          "height": 63
        }
      },
      "source": [
        "#exchange\n",
        "from tensortrade.exchanges.simulated import FBMExchange\n",
        "import pandas as pd\n",
        "from tensortrade.exchanges.simulated import SimulatedExchange\n",
        "\n",
        "#feature pipeline \n",
        "from tensortrade.features.scalers import MinMaxNormalizer\n",
        "from tensortrade.features.stationarity import FractionalDifference\n",
        "from tensortrade.features import FeaturePipeline\n",
        "\n",
        "# rewards scheme\n",
        "from tensortrade.rewards import SimpleProfit\n",
        "\n",
        "# action scheme\n",
        "from tensortrade.actions import DiscreteActions\n",
        "\n",
        "# environments\n",
        "from tensortrade.environments import TradingEnvironment\n",
        "\n",
        "normalize_price = MinMaxNormalizer([\"open\", \"high\", \"low\", \"close\"])\n",
        "difference = FractionalDifference(difference_order=0.6)\n",
        "feature_pipeline = FeaturePipeline(steps=[normalize_price, \n",
        "                                          difference])\n",
        "\n",
        "url = 'https://raw.githubusercontent.com/KU-BIG/2019_Autumn_Algorithm_Trading/master/data/stock/071840.csv'  #하이마트 종목코드\n",
        "df = pd.read_csv(url)\n",
        "#df = pd.read_csv(url, usecols = ['High','Low','Open', 'Close','Volume'])\n",
        "df.columns = ['Datetime', 'high', 'low', 'open', 'close','volume', 'Adj Close']\n",
        "df = df.drop('Adj Close', axis=1)\n",
        "\n",
        "exchange = SimulatedExchange(data_frame=df, base_instrument='KRW', pretransform=True)\n",
        "exchange.feature_pipeline = feature_pipeline\n",
        "\n",
        "reward_scheme = SimpleProfit()  #변형해야 할 필요가 있다. (reward가 좀 이상함.)\n",
        "\n",
        "action_scheme = DiscreteActions(n_actions = 20,\n",
        "                                instrument = 'KRW')\n",
        "\n",
        "environment = TradingEnvironment(exchange=exchange,\n",
        "                                 feature_pipeline=feature_pipeline,\n",
        "                                 action_scheme=action_scheme,\n",
        "                                 reward_scheme=reward_scheme)"
      ],
      "execution_count": 9,
      "outputs": [
        {
          "output_type": "display_data",
          "data": {
            "text/html": [
              "<p style=\"color: red;\">\n",
              "The default version of TensorFlow in Colab will soon switch to TensorFlow 2.x.<br>\n",
              "We recommend you <a href=\"https://www.tensorflow.org/guide/migrate\" target=\"_blank\">upgrade</a> now \n",
              "or ensure your notebook will continue to use TensorFlow 1.x via the <code>%tensorflow_version 1.x</code> magic:\n",
              "<a href=\"https://colab.research.google.com/notebooks/tensorflow_version.ipynb\" target=\"_blank\">more info</a>.</p>\n"
            ],
            "text/plain": [
              "<IPython.core.display.HTML object>"
            ]
          },
          "metadata": {
            "tags": []
          }
        }
      ]
    },
    {
      "cell_type": "code",
      "metadata": {
        "id": "-vLchyteOj2Y",
        "colab_type": "code",
        "colab": {}
      },
      "source": [
        "from stable_baselines.common.policies import MlpLnLstmPolicy, CnnLstmPolicy\n",
        "from stable_baselines import PPO2, A2C\n",
        "\n",
        "model = PPO2\n",
        "policy = MlpLnLstmPolicy\n",
        "params = {\"learning_rate\": 1e-5, \"nminibatches\" : 1 }"
      ],
      "execution_count": 0,
      "outputs": []
    },
    {
      "cell_type": "code",
      "metadata": {
        "id": "4Ksl9RrhOmh6",
        "colab_type": "code",
        "colab": {}
      },
      "source": [
        "from tensortrade.strategies import StableBaselinesTradingStrategy\n",
        "\n",
        "strategy = StableBaselinesTradingStrategy(environment=environment,\n",
        "                                          model=model,\n",
        "                                          policy=policy,\n",
        "                                          model_kwargs=params)"
      ],
      "execution_count": 0,
      "outputs": []
    },
    {
      "cell_type": "code",
      "metadata": {
        "id": "to0_HDNcOoyc",
        "colab_type": "code",
        "colab": {
          "base_uri": "https://localhost:8080/",
          "height": 70
        },
        "outputId": "756ff2aa-3d89-414d-ef1c-0041706bf0bd"
      },
      "source": [
        "performance = strategy.run(steps=100000)\n",
        "#performance = strategy.run(steps=10000, episode_callback=early_episode_callback)"
      ],
      "execution_count": 12,
      "outputs": [
        {
          "output_type": "stream",
          "text": [
            "Finished running strategy.\n",
            "Total episodes: 48 (100000 timesteps).\n",
            "Average reward: -1.0405379857066457.\n"
          ],
          "name": "stdout"
        }
      ]
    },
    {
      "cell_type": "code",
      "metadata": {
        "id": "lAQ5fzp8PxeR",
        "colab_type": "code",
        "colab": {
          "base_uri": "https://localhost:8080/",
          "height": 199
        },
        "outputId": "0d240fda-bef5-48db-dd74-7185f1068319"
      },
      "source": [
        "performance.head()"
      ],
      "execution_count": 13,
      "outputs": [
        {
          "output_type": "execute_result",
          "data": {
            "text/html": [
              "<div>\n",
              "<style scoped>\n",
              "    .dataframe tbody tr th:only-of-type {\n",
              "        vertical-align: middle;\n",
              "    }\n",
              "\n",
              "    .dataframe tbody tr th {\n",
              "        vertical-align: top;\n",
              "    }\n",
              "\n",
              "    .dataframe thead th {\n",
              "        text-align: right;\n",
              "    }\n",
              "</style>\n",
              "<table border=\"1\" class=\"dataframe\">\n",
              "  <thead>\n",
              "    <tr style=\"text-align: right;\">\n",
              "      <th></th>\n",
              "      <th>step</th>\n",
              "      <th>balance</th>\n",
              "      <th>net_worth</th>\n",
              "    </tr>\n",
              "  </thead>\n",
              "  <tbody>\n",
              "    <tr>\n",
              "      <th>0</th>\n",
              "      <td>1.0</td>\n",
              "      <td>7520.707476</td>\n",
              "      <td>9971.202364</td>\n",
              "    </tr>\n",
              "    <tr>\n",
              "      <th>1</th>\n",
              "      <td>2.0</td>\n",
              "      <td>8155.291367</td>\n",
              "      <td>10066.945397</td>\n",
              "    </tr>\n",
              "    <tr>\n",
              "      <th>2</th>\n",
              "      <td>3.0</td>\n",
              "      <td>8621.740120</td>\n",
              "      <td>10025.296492</td>\n",
              "    </tr>\n",
              "    <tr>\n",
              "      <th>3</th>\n",
              "      <td>4.0</td>\n",
              "      <td>8955.432572</td>\n",
              "      <td>9974.142572</td>\n",
              "    </tr>\n",
              "    <tr>\n",
              "      <th>4</th>\n",
              "      <td>5.0</td>\n",
              "      <td>9950.432906</td>\n",
              "      <td>9950.432906</td>\n",
              "    </tr>\n",
              "  </tbody>\n",
              "</table>\n",
              "</div>"
            ],
            "text/plain": [
              "   step      balance     net_worth\n",
              "0   1.0  7520.707476   9971.202364\n",
              "1   2.0  8155.291367  10066.945397\n",
              "2   3.0  8621.740120  10025.296492\n",
              "3   4.0  8955.432572   9974.142572\n",
              "4   5.0  9950.432906   9950.432906"
            ]
          },
          "metadata": {
            "tags": []
          },
          "execution_count": 13
        }
      ]
    },
    {
      "cell_type": "code",
      "metadata": {
        "id": "_duCXnEUSVSy",
        "colab_type": "code",
        "colab": {
          "base_uri": "https://localhost:8080/",
          "height": 199
        },
        "outputId": "869d577f-adf7-4c1d-d735-c3eb780154c5"
      },
      "source": [
        "performance.tail()"
      ],
      "execution_count": 14,
      "outputs": [
        {
          "output_type": "execute_result",
          "data": {
            "text/html": [
              "<div>\n",
              "<style scoped>\n",
              "    .dataframe tbody tr th:only-of-type {\n",
              "        vertical-align: middle;\n",
              "    }\n",
              "\n",
              "    .dataframe tbody tr th {\n",
              "        vertical-align: top;\n",
              "    }\n",
              "\n",
              "    .dataframe thead th {\n",
              "        text-align: right;\n",
              "    }\n",
              "</style>\n",
              "<table border=\"1\" class=\"dataframe\">\n",
              "  <thead>\n",
              "    <tr style=\"text-align: right;\">\n",
              "      <th></th>\n",
              "      <th>step</th>\n",
              "      <th>balance</th>\n",
              "      <th>net_worth</th>\n",
              "    </tr>\n",
              "  </thead>\n",
              "  <tbody>\n",
              "    <tr>\n",
              "      <th>1403</th>\n",
              "      <td>1404.0</td>\n",
              "      <td>933.003749</td>\n",
              "      <td>1053.621933</td>\n",
              "    </tr>\n",
              "    <tr>\n",
              "      <th>1404</th>\n",
              "      <td>1405.0</td>\n",
              "      <td>933.003749</td>\n",
              "      <td>1055.666309</td>\n",
              "    </tr>\n",
              "    <tr>\n",
              "      <th>1405</th>\n",
              "      <td>1406.0</td>\n",
              "      <td>474.367651</td>\n",
              "      <td>1055.572251</td>\n",
              "    </tr>\n",
              "    <tr>\n",
              "      <th>1406</th>\n",
              "      <td>1407.0</td>\n",
              "      <td>615.840367</td>\n",
              "      <td>1049.946277</td>\n",
              "    </tr>\n",
              "    <tr>\n",
              "      <th>1407</th>\n",
              "      <td>1408.0</td>\n",
              "      <td>615.840367</td>\n",
              "      <td>1062.529057</td>\n",
              "    </tr>\n",
              "  </tbody>\n",
              "</table>\n",
              "</div>"
            ],
            "text/plain": [
              "        step     balance    net_worth\n",
              "1403  1404.0  933.003749  1053.621933\n",
              "1404  1405.0  933.003749  1055.666309\n",
              "1405  1406.0  474.367651  1055.572251\n",
              "1406  1407.0  615.840367  1049.946277\n",
              "1407  1408.0  615.840367  1062.529057"
            ]
          },
          "metadata": {
            "tags": []
          },
          "execution_count": 14
        }
      ]
    },
    {
      "cell_type": "code",
      "metadata": {
        "id": "NI0a_ptsOrMZ",
        "colab_type": "code",
        "colab": {
          "base_uri": "https://localhost:8080/",
          "height": 285
        },
        "outputId": "d278a85d-eaa1-4076-85e0-fac5eca3a2c0"
      },
      "source": [
        "%matplotlib inline\n",
        "performance.net_worth.plot()"
      ],
      "execution_count": 15,
      "outputs": [
        {
          "output_type": "execute_result",
          "data": {
            "text/plain": [
              "<matplotlib.axes._subplots.AxesSubplot at 0x7f0f36b7a828>"
            ]
          },
          "metadata": {
            "tags": []
          },
          "execution_count": 15
        },
        {
          "output_type": "display_data",
          "data": {
            "image/png": "[encoded data removed]",
            "text/plain": [
              "<Figure size 432x288 with 1 Axes>"
            ]
          },
          "metadata": {
            "tags": []
          }
        }
      ]
    },
    {
      "cell_type": "markdown",
      "metadata": {
        "id": "L59rziZMVH0p",
        "colab_type": "text"
      },
      "source": [
        "1. 일 단위 데이터는 강화학습에는 적합하지 않다.(시간데이터 필요)    \n",
        "2. feature_pipeline 수정이 필요하다.\n",
        "3. difference_order의 역할??\n",
        "4. 원 -> 달러 계산 때문에? \n",
        "5. parameter tuning 때문에???(ex. PPO2, nminibatches, policy, reward, action space (discrete) 조정 등이 필요할 듯) \n",
        "A2C -> parameter\n",
        "6. 100000 돌려보기. ?? 다소 나아지는 양상을 보이긴 한다. \n",
        "\n",
        "=> 강화학습은 modulation이 심해서 주식 거래에서 수익을 내기가 쉽지 않다. \n",
        "=> 그래프 많이 변화하는 것 캡쳐 및 최종발표 준비. \n",
        "=> "
      ]
    },
    {
      "cell_type": "code",
      "metadata": {
        "id": "yMtVaAgeOtvD",
        "colab_type": "code",
        "colab": {}
      },
      "source": [
        "from google.colab import drive\n",
        "\n",
        "drive.mount('/content/drive')"
      ],
      "execution_count": 0,
      "outputs": []
    },
    {
      "cell_type": "code",
      "metadata": {
        "id": "plx1CuDIOuak",
        "colab_type": "code",
        "colab": {}
      },
      "source": [
        "strategy.save_agent(path=\"/content/drive/My Drive/ppo_btc_1h\")"
      ],
      "execution_count": 0,
      "outputs": []
    },
    {
      "cell_type": "code",
      "metadata": {
        "id": "LffBhdnaOxS3",
        "colab_type": "code",
        "colab": {}
      },
      "source": [
        "strategy = StableBaselinesTradingStrategy(environment=environment,\n",
        "                                          model=model,\n",
        "                                          policy=policy,\n",
        "                                          model_kwargs=params)\n",
        "\n",
        "strategy.restore_agent(path=\"/content/drive/My Drive/ppo_btc_1h\")"
      ],
      "execution_count": 0,
      "outputs": []
    }
  ]
}