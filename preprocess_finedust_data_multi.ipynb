{
 "cells": [
  {
   "cell_type": "markdown",
   "metadata": {},
   "source": [
    "## Reference\n",
    "\n",
    "- [에어코리아 최종확정 측정자료조회](https://www.airkorea.or.kr/web/pastSearch?pMENU_NO=123)"
   ]
  },
  {
   "cell_type": "code",
   "execution_count": 1,
   "metadata": {},
   "outputs": [],
   "source": [
    "import glob\n",
    "\n",
    "import pandas as pd\n",
    "\n",
    "import tqdm\n",
    "from multiprocessing.pool import ThreadPool"
   ]
  },
  {
   "cell_type": "markdown",
   "metadata": {},
   "source": [
    "## Resave .xlsx files as .csv and .pkl for reuse (with multi cores)"
   ]
  },
  {
   "cell_type": "code",
   "execution_count": null,
   "metadata": {},
   "outputs": [
    {
     "name": "stderr",
     "output_type": "stream",
     "text": [
      "  0%|          | 0/77 [00:00<?, ?it/s]"
     ]
    },
    {
     "name": "stdout",
     "output_type": "stream",
     "text": [
      "data/finedust/raw_excel/2004/2004-03.xlsx\n",
      "data/finedust/raw_excel/2004/2004-01.xlsx\n",
      "data/finedust/raw_excel/2004/2004-02.xlsx\n",
      "data/finedust/raw_excel/2004/2004-04.xlsx\n",
      "data/finedust/raw_excel/2018/2018-01.xlsx\n",
      "data/finedust/raw_excel/2018/2018-02.xlsx\n",
      "data/finedust/raw_excel/2018/2018-03.xlsx\n",
      "data/finedust/raw_excel/2018/2018-04.xlsx\n",
      "data/finedust/raw_excel/2006/2006-02.xlsx\n",
      "data/finedust/raw_excel/2006/2006-01.xlsx\n",
      "data/finedust/raw_excel/2006/2006-03.xlsx\n",
      "data/finedust/raw_excel/2006/2006-04.xlsx\n",
      "data/finedust/raw_excel/2019/2019-04.xlsx\n",
      "data/finedust/raw_excel/2019/2019-02.xlsx\n",
      "data/finedust/raw_excel/2019/2019-01.xlsx\n",
      "data/finedust/raw_excel/2019/2019-03.xlsx\n",
      "data/finedust/raw_excel/2005/2005-04.xlsx\n",
      "data/finedust/raw_excel/2005/2005-01.xlsx\n",
      "data/finedust/raw_excel/2005/2005-03.xlsx\n",
      "data/finedust/raw_excel/2005/2005-02.xlsx\n",
      "data/finedust/raw_excel/2003/2003-02.xlsx\n",
      "data/finedust/raw_excel/2003/2003-01.xlsx\n",
      "data/finedust/raw_excel/2003/2003-04.xlsx\n",
      "data/finedust/raw_excel/2003/2003-03.xlsx\n"
     ]
    }
   ],
   "source": [
    "num_of_cores = 24\n",
    "\n",
    "folders = glob.glob('data/finedust/raw_excel/*')\n",
    "\n",
    "all_files = []\n",
    "\n",
    "for folder in folders :\n",
    "    files = glob.glob(folder+'/*')\n",
    "    for file in files :\n",
    "        all_files.append(file)\n",
    "        \n",
    "        \n",
    "def load_excel_and_save_as_pickle_and_csv(filename) : \n",
    "    print(filename)\n",
    "    try : \n",
    "        excel = pd.read_excel(filename)\n",
    "        excel.to_pickle(filename.replace('raw_excel', 'raw_pickle').replace('.xlsx', '.pkl'))\n",
    "        excel.to_csv(filename.replace('raw_excel', 'raw_csv').replace('.xlsx', '.csv'))\n",
    "    except Excpetion as e :\n",
    "        print(e)\n",
    "    pbar.update(1)\n",
    "    return\n",
    "\n",
    "pool = ThreadPool(num_of_cores)\n",
    "\n",
    "with tqdm.tqdm(total=len(all_files)) as pbar :\n",
    "    for filename in all_files : \n",
    "        pool.apply_async(load_excel_and_save_as_pickle_and_csv, [filename])       \n",
    "    pool.close()\n",
    "    pool.join()"
   ]
  },
  {
   "cell_type": "markdown",
   "metadata": {},
   "source": [
    "## Resave .xlsx files as .csv and .pkl for reuse (with multi cores)\n",
    "- 2014, 2015, 2016 only\n",
    "- those years ars saved as .csv file"
   ]
  },
  {
   "cell_type": "code",
   "execution_count": 4,
   "metadata": {},
   "outputs": [
    {
     "name": "stdout",
     "output_type": "stream",
     "text": [
      "['data/finedust/raw_excel/2014', 'data/finedust/raw_excel/2015', 'data/finedust/raw_excel/2016']\n"
     ]
    }
   ],
   "source": [
    "num_of_cores = 24\n",
    "\n",
    "folders = ['data/finedust/raw_excel/2014','data/finedust/raw_excel/2015','data/finedust/raw_excel/2016']\n",
    "print(folders)"
   ]
  },
  {
   "cell_type": "code",
   "execution_count": 7,
   "metadata": {},
   "outputs": [
    {
     "name": "stderr",
     "output_type": "stream",
     "text": [
      "  0%|          | 0/12 [00:00<?, ?it/s]"
     ]
    },
    {
     "name": "stdout",
     "output_type": "stream",
     "text": [
      "data/finedust/raw_excel/2014/2014-03.csv\n"
     ]
    },
    {
     "name": "stderr",
     "output_type": "stream",
     "text": [
      "  8%|▊         | 1/12 [00:12<02:19, 12.71s/it]"
     ]
    },
    {
     "name": "stdout",
     "output_type": "stream",
     "text": [
      "data/finedust/raw_excel/2014/2014-02.csv\n"
     ]
    },
    {
     "name": "stderr",
     "output_type": "stream",
     "text": [
      " 17%|█▋        | 2/12 [00:25<02:07, 12.72s/it]"
     ]
    },
    {
     "name": "stdout",
     "output_type": "stream",
     "text": [
      "data/finedust/raw_excel/2014/2014-04.csv\n"
     ]
    },
    {
     "name": "stderr",
     "output_type": "stream",
     "text": [
      " 25%|██▌       | 3/12 [00:38<01:54, 12.68s/it]"
     ]
    },
    {
     "name": "stdout",
     "output_type": "stream",
     "text": [
      "data/finedust/raw_excel/2014/2014-01.csv\n"
     ]
    },
    {
     "name": "stderr",
     "output_type": "stream",
     "text": [
      " 33%|███▎      | 4/12 [00:50<01:41, 12.66s/it]"
     ]
    },
    {
     "name": "stdout",
     "output_type": "stream",
     "text": [
      "data/finedust/raw_excel/2015/2015-03.csv\n"
     ]
    },
    {
     "name": "stderr",
     "output_type": "stream",
     "text": [
      " 42%|████▏     | 5/12 [01:04<01:30, 12.99s/it]"
     ]
    },
    {
     "name": "stdout",
     "output_type": "stream",
     "text": [
      "data/finedust/raw_excel/2015/2015-04.csv\n"
     ]
    },
    {
     "name": "stderr",
     "output_type": "stream",
     "text": [
      " 50%|█████     | 6/12 [01:18<01:19, 13.25s/it]"
     ]
    },
    {
     "name": "stdout",
     "output_type": "stream",
     "text": [
      "data/finedust/raw_excel/2015/2015-01.csv\n"
     ]
    },
    {
     "name": "stderr",
     "output_type": "stream",
     "text": [
      " 58%|█████▊    | 7/12 [01:32<01:07, 13.42s/it]"
     ]
    },
    {
     "name": "stdout",
     "output_type": "stream",
     "text": [
      "data/finedust/raw_excel/2015/2015-02.csv\n"
     ]
    },
    {
     "name": "stderr",
     "output_type": "stream",
     "text": [
      " 67%|██████▋   | 8/12 [01:45<00:53, 13.49s/it]"
     ]
    },
    {
     "name": "stdout",
     "output_type": "stream",
     "text": [
      "data/finedust/raw_excel/2016/2016-02.csv\n"
     ]
    },
    {
     "name": "stderr",
     "output_type": "stream",
     "text": [
      " 75%|███████▌  | 9/12 [01:58<00:39, 13.30s/it]"
     ]
    },
    {
     "name": "stdout",
     "output_type": "stream",
     "text": [
      "data/finedust/raw_excel/2016/2016-04.csv\n"
     ]
    },
    {
     "name": "stderr",
     "output_type": "stream",
     "text": [
      " 83%|████████▎ | 10/12 [02:11<00:26, 13.21s/it]"
     ]
    },
    {
     "name": "stdout",
     "output_type": "stream",
     "text": [
      "data/finedust/raw_excel/2016/2016-01.csv\n"
     ]
    },
    {
     "name": "stderr",
     "output_type": "stream",
     "text": [
      " 92%|█████████▏| 11/12 [02:24<00:13, 13.07s/it]"
     ]
    },
    {
     "name": "stdout",
     "output_type": "stream",
     "text": [
      "data/finedust/raw_excel/2016/2016-03.csv\n"
     ]
    },
    {
     "name": "stderr",
     "output_type": "stream",
     "text": [
      "100%|██████████| 12/12 [02:37<00:00, 13.11s/it]\n"
     ]
    }
   ],
   "source": [
    "all_files = []\n",
    "\n",
    "for folder in folders :\n",
    "    files = glob.glob(folder+'/*')\n",
    "    for file in files :\n",
    "        all_files.append(file)\n",
    "\n",
    "with tqdm.tqdm(total=len(all_files)) as pbar :\n",
    "    for filename in all_files : \n",
    "        print(filename)\n",
    "        \n",
    "        excel = pd.read_csv(filename, encoding = 'unicode_escape')\n",
    "        excel.to_pickle(filename.replace('raw_excel', 'raw_pickle').replace('.xlsx', '.pkl'))\n",
    "        excel.to_csv(filename.replace('raw_excel', 'raw_csv').replace('.xlsx', '.csv'))\n",
    "        pbar.update(1)"
   ]
  },
  {
   "cell_type": "code",
   "execution_count": null,
   "metadata": {},
   "outputs": [],
   "source": []
  }
 ],
 "metadata": {
  "kernelspec": {
   "display_name": "Python 3",
   "language": "python",
   "name": "python3"
  },
  "language_info": {
   "codemirror_mode": {
    "name": "ipython",
    "version": 3
   },
   "file_extension": ".py",
   "mimetype": "text/x-python",
   "name": "python",
   "nbconvert_exporter": "python",
   "pygments_lexer": "ipython3",
   "version": "3.6.8"
  }
 },
 "nbformat": 4,
 "nbformat_minor": 4
}
