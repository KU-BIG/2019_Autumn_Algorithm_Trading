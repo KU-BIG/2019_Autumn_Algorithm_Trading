{
 "cells": [
  {
   "cell_type": "markdown",
   "metadata": {},
   "source": [
    "## Reference\n",
    "\n",
    "- [에어코리아 최종확정 측정자료조회](https://www.airkorea.or.kr/web/pastSearch?pMENU_NO=123)"
   ]
  },
  {
   "cell_type": "code",
   "execution_count": 1,
   "metadata": {},
   "outputs": [],
   "source": [
    "import glob\n",
    "\n",
    "import pandas as pd\n",
    "\n",
    "import tqdm\n",
    "from multiprocessing.pool import ThreadPool"
   ]
  },
  {
   "cell_type": "markdown",
   "metadata": {},
   "source": [
    "## Resave .xlsx files as .csv and .pkl for reuse (with single core)\n",
    "- 2014, 2015, 2016 which returns error ars saved as .csv file"
   ]
  },
  {
   "cell_type": "code",
   "execution_count": null,
   "metadata": {},
   "outputs": [
    {
     "name": "stderr",
     "output_type": "stream",
     "text": [
      "  0%|          | 0/77 [00:00<?, ?it/s]"
     ]
    },
    {
     "name": "stdout",
     "output_type": "stream",
     "text": [
      "data/finedust/raw_excel/2004/2004-03.xlsx\n"
     ]
    },
    {
     "name": "stderr",
     "output_type": "stream",
     "text": [
      "  1%|▏         | 1/77 [02:01<2:34:25, 121.91s/it]"
     ]
    },
    {
     "name": "stdout",
     "output_type": "stream",
     "text": [
      "data/finedust/raw_excel/2004/2004-01.xlsx\n"
     ]
    },
    {
     "name": "stderr",
     "output_type": "stream",
     "text": [
      "  3%|▎         | 2/77 [03:58<2:30:12, 120.17s/it]"
     ]
    },
    {
     "name": "stdout",
     "output_type": "stream",
     "text": [
      "data/finedust/raw_excel/2004/2004-02.xlsx\n"
     ]
    },
    {
     "name": "stderr",
     "output_type": "stream",
     "text": [
      "  4%|▍         | 3/77 [05:49<2:25:00, 117.57s/it]"
     ]
    },
    {
     "name": "stdout",
     "output_type": "stream",
     "text": [
      "data/finedust/raw_excel/2004/2004-04.xlsx\n"
     ]
    },
    {
     "name": "stderr",
     "output_type": "stream",
     "text": [
      "  5%|▌         | 4/77 [07:54<2:25:34, 119.65s/it]"
     ]
    },
    {
     "name": "stdout",
     "output_type": "stream",
     "text": [
      "data/finedust/raw_excel/2018/2018-01.xlsx\n"
     ]
    },
    {
     "name": "stderr",
     "output_type": "stream",
     "text": [
      "  6%|▋         | 5/77 [11:16<2:53:16, 144.40s/it]"
     ]
    },
    {
     "name": "stdout",
     "output_type": "stream",
     "text": [
      "data/finedust/raw_excel/2018/2018-02.xlsx\n"
     ]
    },
    {
     "name": "stderr",
     "output_type": "stream",
     "text": [
      "  8%|▊         | 6/77 [14:47<3:14:42, 164.55s/it]"
     ]
    },
    {
     "name": "stdout",
     "output_type": "stream",
     "text": [
      "data/finedust/raw_excel/2018/2018-03.xlsx\n"
     ]
    }
   ],
   "source": [
    "folders = glob.glob('data/finedust/raw_excel/*')\n",
    "\n",
    "all_files = []\n",
    "\n",
    "for folder in folders :\n",
    "    files = glob.glob(folder+'/*')\n",
    "    for file in files :\n",
    "        all_files.append(file)\n",
    "\n",
    "with tqdm.tqdm(total=len(all_files)) as pbar :\n",
    "    for filename in all_files : \n",
    "        print(filename)\n",
    "        try : \n",
    "            excel = pd.read_excel(filename)\n",
    "            excel.to_pickle(filename.replace('raw_excel', 'raw_pickle').replace('.xlsx', '.pkl'))\n",
    "            excel.to_csv(filename.replace('raw_excel', 'raw_csv').replace('.xlsx', '.csv'))\n",
    "            pbar.update(1)\n",
    "        except Exception as e :\n",
    "            print(e)"
   ]
  },
  {
   "cell_type": "code",
   "execution_count": null,
   "metadata": {},
   "outputs": [],
   "source": []
  }
 ],
 "metadata": {
  "kernelspec": {
   "display_name": "Python 3",
   "language": "python",
   "name": "python3"
  },
  "language_info": {
   "codemirror_mode": {
    "name": "ipython",
    "version": 3
   },
   "file_extension": ".py",
   "mimetype": "text/x-python",
   "name": "python",
   "nbconvert_exporter": "python",
   "pygments_lexer": "ipython3",
   "version": "3.6.8"
  }
 },
 "nbformat": 4,
 "nbformat_minor": 4
}
